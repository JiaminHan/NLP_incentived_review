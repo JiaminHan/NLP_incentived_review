{
 "cells": [
  {
   "cell_type": "code",
   "execution_count": 2,
   "metadata": {},
   "outputs": [
    {
     "name": "stderr",
     "output_type": "stream",
     "text": [
      "/anaconda3/lib/python3.6/site-packages/sklearn/cross_validation.py:41: DeprecationWarning: This module was deprecated in version 0.18 in favor of the model_selection module into which all the refactored classes and functions are moved. Also note that the interface of the new CV iterators are different from that of this module. This module will be removed in 0.20.\n",
      "  \"This module will be removed in 0.20.\", DeprecationWarning)\n"
     ]
    }
   ],
   "source": [
    "import pandas as pd\n",
    "import numpy as np\n",
    "import pickle\n",
    "import json\n",
    "from copy import deepcopy\n",
    "import itertools\n",
    "from sklearn.feature_extraction.text import CountVectorizer\n",
    "from gensim.utils import simple_preprocess\n",
    "from nltk.tokenize.punkt import PunktSentenceTokenizer, PunktParameters\n",
    "import re\n",
    "from sklearn.feature_extraction.text import CountVectorizer, TfidfVectorizer\n",
    "from collections import defaultdict\n",
    "from gensim.models import word2vec\n",
    "from gensim import models\n",
    "from sklearn.preprocessing import Normalizer, normalize\n",
    "from sklearn.decomposition import PCA\n",
    "from sklearn.cluster import KMeans, MiniBatchKMeans\n",
    "import matplotlib.pyplot as plt\n",
    "from wordcloud import WordCloud\n",
    "import csv\n",
    "from sklearn.preprocessing import Imputer, StandardScaler, LabelEncoder, OneHotEncoder\n",
    "from sklearn_pandas import DataFrameMapper, CategoricalImputer\n",
    "from sklearn.naive_bayes import GaussianNB\n",
    "from sklearn.metrics import f1_score\n",
    "from sklearn.metrics import accuracy_score\n",
    "from sklearn.metrics import classification_report\n",
    "from sklearn.cross_validation import train_test_split\n",
    "from sklearn.metrics import roc_auc_score\n",
    "from sklearn.ensemble import RandomForestClassifier\n",
    "from sklearn.linear_model import LogisticRegression\n",
    "from sklearn.ensemble import GradientBoostingClassifier\n",
    "from sklearn.metrics import roc_curve\n",
    "import matplotlib.pyplot as plt\n",
    "%matplotlib inline\n",
    "from sklearn.metrics import recall_score"
   ]
  },
  {
   "cell_type": "markdown",
   "metadata": {},
   "source": [
    "## Load data"
   ]
  },
  {
   "cell_type": "code",
   "execution_count": null,
   "metadata": {},
   "outputs": [],
   "source": [
    "## Not in use\n",
    "# product_org = pd.DataFrame(df_raw)\n",
    "# products=deepcopy(product_org)\n",
    "# products['brand_id']=products['Brand'].apply(lambda x: x['Id'])\n",
    "# products['brand_name']=products['Brand'].apply(lambda x: x['Name'])\n",
    "# products['rec_cnt']=products['ReviewStatistics'].apply(lambda x: x['RecommendedCount'])\n",
    "# products['avg_rating']=products['ReviewStatistics'].apply(lambda x: x['AverageOverallRating'])\n",
    "# products['helpful_cnt']=products['ReviewStatistics'].apply(lambda x: x['HelpfulVoteCount'])\n",
    "# products.head()"
   ]
  },
  {
   "cell_type": "code",
   "execution_count": null,
   "metadata": {},
   "outputs": [],
   "source": [
    "# def product_parser(product):\n",
    "#     agg = dict()\n",
    "#     fields = ['brand_id', 'brand_name','product_id','Name','CategoryId', 'Description', 'rec_cnt', 'avg_rating','helpful_cnt','TotalReviewCount']\n",
    "#     for field in fields:\n",
    "#         value = product.get(field, None)\n",
    "#         try:\n",
    "#             agg[field] = value\n",
    "\n",
    "#         except:\n",
    "#             agg[field] = None\n",
    "#     return agg"
   ]
  },
  {
   "cell_type": "code",
   "execution_count": null,
   "metadata": {},
   "outputs": [],
   "source": [
    "# pd.DataFrame(product_parser(products)).to_pickle('product_table.pickle')\n",
    "# df1=pd.read_pickle('reviewlist_all.pickle')\n",
    "# df1_org=pd.DataFrame(df1)"
   ]
  },
  {
   "cell_type": "code",
   "execution_count": null,
   "metadata": {},
   "outputs": [],
   "source": [
    "# def review_parser(review):\n",
    "#     # Reference variables\n",
    "#     agg = dict()\n",
    "#     fields = ['AuthorId','IsFeatured','IsRatingsOnly','IsRecommended', 'product_id', 'Rating', 'ReviewText','isemployee','freeproduct','Helpfulness','Title']\n",
    "#     for field in fields:\n",
    "#         value = review.get(field, None)\n",
    "#         #value = product.__dict__.get(field, None)\n",
    "\n",
    "#         try:\n",
    "#             agg[field] = value\n",
    "#             #agg[field] = unicode(value).encode('ascii', errors='ignore') if value is not None else None\n",
    "\n",
    "#         except:\n",
    "#             agg[field] = None\n",
    "#     return agg"
   ]
  },
  {
   "cell_type": "code",
   "execution_count": null,
   "metadata": {},
   "outputs": [],
   "source": [
    "# with open('reviewlist_all.pickle', 'rb') as f:\n",
    "#     # The protocol version used is detected automatically, so we do not\n",
    "#     # have to specify it.\n",
    "#     data = pickle.load(f)"
   ]
  },
  {
   "cell_type": "code",
   "execution_count": null,
   "metadata": {},
   "outputs": [],
   "source": [
    "# review_i = pd.DataFrame([i for i in data if 'IncentivizedReview' in i['ContextDataValues']])\n",
    "# review_i['isemployee']=review_i['ContextDataValues'].apply(lambda x: x['StaffContext']['Value'])\n",
    "# review_i['freeproduct']=review_i['ContextDataValues'].apply(lambda x: x['IncentivizedReview']['Value'])\n",
    "# reviews=pd.DataFrame(review_parser(review_i))\n",
    "# reviews.to_pickle('review_table.pickle')"
   ]
  },
  {
   "cell_type": "code",
   "execution_count": 3,
   "metadata": {},
   "outputs": [],
   "source": [
    "new=pd.read_pickle('reviewdata_sub.pickle')"
   ]
  },
  {
   "cell_type": "code",
   "execution_count": 4,
   "metadata": {},
   "outputs": [],
   "source": [
    "col=list(new.columns)"
   ]
  },
  {
   "cell_type": "code",
   "execution_count": 5,
   "metadata": {},
   "outputs": [
    {
     "data": {
      "text/plain": [
       "['AdditionalFields.sociallockup.Id',\n",
       " 'AdditionalFields.sociallockup.Label',\n",
       " 'AdditionalFields.sociallockup.Value',\n",
       " 'AdditionalFieldsOrder',\n",
       " 'AuthorId',\n",
       " 'Badges.Expert.BadgeType',\n",
       " 'Badges.Expert.ContentType',\n",
       " 'Badges.Expert.Id',\n",
       " 'Badges.IncentivizedReviewBadge.BadgeType',\n",
       " 'Badges.IncentivizedReviewBadge.ContentType',\n",
       " 'Badges.IncentivizedReviewBadge.Id',\n",
       " 'Badges.Staff.BadgeType',\n",
       " 'Badges.Staff.ContentType',\n",
       " 'Badges.Staff.Id',\n",
       " 'Badges.StaffContextBadge.BadgeType',\n",
       " 'Badges.StaffContextBadge.ContentType',\n",
       " 'Badges.StaffContextBadge.Id',\n",
       " 'Badges.beautyInsider.BadgeType',\n",
       " 'Badges.beautyInsider.ContentType',\n",
       " 'Badges.beautyInsider.Id',\n",
       " 'Badges.top10Contributor.BadgeType',\n",
       " 'Badges.top10Contributor.ContentType',\n",
       " 'Badges.top10Contributor.Id',\n",
       " 'Badges.top1Contributor.BadgeType',\n",
       " 'Badges.top1Contributor.ContentType',\n",
       " 'Badges.top1Contributor.Id',\n",
       " 'Badges.top25Contributor.BadgeType',\n",
       " 'Badges.top25Contributor.ContentType',\n",
       " 'Badges.top25Contributor.Id',\n",
       " 'Badges.top50Contributor.BadgeType',\n",
       " 'Badges.top50Contributor.ContentType',\n",
       " 'Badges.top50Contributor.Id',\n",
       " 'Badges.yesvib.BadgeType',\n",
       " 'Badges.yesvib.ContentType',\n",
       " 'Badges.yesvib.Id',\n",
       " 'Badges.yesvibr.BadgeType',\n",
       " 'Badges.yesvibr.ContentType',\n",
       " 'Badges.yesvibr.Id',\n",
       " 'BadgesOrder',\n",
       " 'CampaignId',\n",
       " 'ClientResponses',\n",
       " 'CommentIds',\n",
       " 'ContentLocale',\n",
       " 'ContextDataValues.IncentivizedReview.DimensionLabel',\n",
       " 'ContextDataValues.IncentivizedReview.Id',\n",
       " 'ContextDataValues.IncentivizedReview.Value',\n",
       " 'ContextDataValues.IncentivizedReview.ValueLabel',\n",
       " 'ContextDataValues.StaffContext.DimensionLabel',\n",
       " 'ContextDataValues.StaffContext.Id',\n",
       " 'ContextDataValues.StaffContext.Value',\n",
       " 'ContextDataValues.StaffContext.ValueLabel',\n",
       " 'ContextDataValues.age.DimensionLabel',\n",
       " 'ContextDataValues.age.Id',\n",
       " 'ContextDataValues.age.Value',\n",
       " 'ContextDataValues.age.ValueLabel',\n",
       " 'ContextDataValues.beautyInsider.DimensionLabel',\n",
       " 'ContextDataValues.beautyInsider.Id',\n",
       " 'ContextDataValues.beautyInsider.Value',\n",
       " 'ContextDataValues.beautyInsider.ValueLabel',\n",
       " 'ContextDataValues.eyeColor.DimensionLabel',\n",
       " 'ContextDataValues.eyeColor.Id',\n",
       " 'ContextDataValues.eyeColor.Value',\n",
       " 'ContextDataValues.eyeColor.ValueLabel',\n",
       " 'ContextDataValues.hairColor.DimensionLabel',\n",
       " 'ContextDataValues.hairColor.Id',\n",
       " 'ContextDataValues.hairColor.Value',\n",
       " 'ContextDataValues.hairColor.ValueLabel',\n",
       " 'ContextDataValues.hairConcerns.DimensionLabel',\n",
       " 'ContextDataValues.hairConcerns.Id',\n",
       " 'ContextDataValues.hairConcerns.Value',\n",
       " 'ContextDataValues.hairConcerns.ValueLabel',\n",
       " 'ContextDataValues.hairCondition.DimensionLabel',\n",
       " 'ContextDataValues.hairCondition.Id',\n",
       " 'ContextDataValues.hairCondition.Value',\n",
       " 'ContextDataValues.hairCondition.ValueLabel',\n",
       " 'ContextDataValues.skinConcerns.DimensionLabel',\n",
       " 'ContextDataValues.skinConcerns.Id',\n",
       " 'ContextDataValues.skinConcerns.Value',\n",
       " 'ContextDataValues.skinConcerns.ValueLabel',\n",
       " 'ContextDataValues.skinTone.DimensionLabel',\n",
       " 'ContextDataValues.skinTone.Id',\n",
       " 'ContextDataValues.skinTone.Value',\n",
       " 'ContextDataValues.skinTone.ValueLabel',\n",
       " 'ContextDataValues.skinType.DimensionLabel',\n",
       " 'ContextDataValues.skinType.Id',\n",
       " 'ContextDataValues.skinType.Value',\n",
       " 'ContextDataValues.skinType.ValueLabel',\n",
       " 'ContextDataValuesOrder',\n",
       " 'Helpfulness',\n",
       " 'Id',\n",
       " 'IsFeatured',\n",
       " 'IsRatingsOnly',\n",
       " 'IsRecommended',\n",
       " 'IsSyndicated',\n",
       " 'LastModeratedTime',\n",
       " 'LastModificationTime',\n",
       " 'ModerationStatus',\n",
       " 'Photos',\n",
       " 'ProductId',\n",
       " 'ProductRecommendationIds',\n",
       " 'Rating',\n",
       " 'RatingRange',\n",
       " 'ReviewText',\n",
       " 'SecondaryRatingsOrder',\n",
       " 'SubmissionId',\n",
       " 'SubmissionTime',\n",
       " 'TagDimensions.Pro.Id',\n",
       " 'TagDimensions.Pro.Label',\n",
       " 'TagDimensions.Pro.Values',\n",
       " 'TagDimensionsOrder',\n",
       " 'Title',\n",
       " 'TotalCommentCount',\n",
       " 'TotalFeedbackCount',\n",
       " 'TotalNegativeFeedbackCount',\n",
       " 'TotalPositiveFeedbackCount',\n",
       " 'UserLocation',\n",
       " 'UserNickname',\n",
       " 'Videos',\n",
       " 'product_id',\n",
       " 'productName',\n",
       " 'productId',\n",
       " 'productPrice',\n",
       " 'productURL']"
      ]
     },
     "execution_count": 5,
     "metadata": {},
     "output_type": "execute_result"
    }
   ],
   "source": [
    "col"
   ]
  },
  {
   "cell_type": "code",
   "execution_count": 6,
   "metadata": {},
   "outputs": [
    {
     "data": {
      "text/plain": [
       "(110292, 123)"
      ]
     },
     "execution_count": 6,
     "metadata": {},
     "output_type": "execute_result"
    }
   ],
   "source": [
    "new.shape"
   ]
  },
  {
   "cell_type": "markdown",
   "metadata": {},
   "source": [
    "## Parse"
   ]
  },
  {
   "cell_type": "code",
   "execution_count": 7,
   "metadata": {},
   "outputs": [],
   "source": [
    "def review_parser_new(review):\n",
    "    # Reference variables\n",
    "    agg = dict()\n",
    "    fields = ['AuthorId','IsFeatured','IsRatingsOnly','IsRecommended', 'Rating', 'Title','ReviewText',\n",
    "              'ContextDataValues.StaffContext.Value','ContextDataValues.IncentivizedReview.Value',\n",
    "              'ContextDataValues.age.Value','ContextDataValues.beautyInsider.Value','Helpfulness','product_id',\n",
    "             'productPrice','']\n",
    "    for field in fields:\n",
    "        value = review.get(field, None)\n",
    "        #value = product.__dict__.get(field, None)\n",
    "\n",
    "        try:\n",
    "            agg[field] = value\n",
    "            #agg[field] = unicode(value).encode('ascii', errors='ignore') if value is not None else None\n",
    "\n",
    "        except:\n",
    "            agg[field] = None\n",
    "    return agg"
   ]
  },
  {
   "cell_type": "code",
   "execution_count": 8,
   "metadata": {},
   "outputs": [],
   "source": [
    "reviews_new=pd.DataFrame(review_parser_new(new))"
   ]
  },
  {
   "cell_type": "code",
   "execution_count": 9,
   "metadata": {},
   "outputs": [],
   "source": [
    "reviews_new['incentivized']=0\n",
    "reviews_new.loc[(reviews_new['ContextDataValues.IncentivizedReview.Value']=='true')|(reviews_new['ContextDataValues.StaffContext.Value']=='true'),'incentivized']=1"
   ]
  },
  {
   "cell_type": "code",
   "execution_count": 10,
   "metadata": {},
   "outputs": [],
   "source": [
    "reviews_new['age']=reviews_new['ContextDataValues.age.Value'].fillna('unknow')"
   ]
  },
  {
   "cell_type": "code",
   "execution_count": 11,
   "metadata": {},
   "outputs": [],
   "source": [
    "reviews_new['vib']=reviews_new['ContextDataValues.beautyInsider.Value'].fillna('unknow')"
   ]
  },
  {
   "cell_type": "code",
   "execution_count": 12,
   "metadata": {},
   "outputs": [],
   "source": [
    "reviews_new['incentivized']=0\n",
    "reviews_new.loc[(reviews_new['ContextDataValues.StaffContext.Value']=='true')|(reviews_new['ContextDataValues.IncentivizedReview.Value']=='true'),'incentivized']=1\n"
   ]
  },
  {
   "cell_type": "code",
   "execution_count": 13,
   "metadata": {},
   "outputs": [],
   "source": [
    "reviews_new.reset_index(inplace=True)"
   ]
  },
  {
   "cell_type": "code",
   "execution_count": 14,
   "metadata": {},
   "outputs": [],
   "source": [
    "reviews_new=reviews_new[['index', 'AuthorId', 'IsFeatured', 'IsRatingsOnly', 'IsRecommended',\n",
    "       'Rating', 'Title', 'ReviewText', 'Helpfulness', 'product_id', 'productPrice', 'incentivized', 'age','vib']]"
   ]
  },
  {
   "cell_type": "code",
   "execution_count": 15,
   "metadata": {},
   "outputs": [],
   "source": [
    "reviews_new.columns=['review_id', 'AuthorId', 'IsFeatured', 'IsRatingsOnly', 'IsRecommended',\n",
    "       'Rating', 'Title', 'ReviewText', 'Helpfulness', 'product_id',\n",
    "       'productPrice', 'incentivized', 'age', 'vib']"
   ]
  },
  {
   "cell_type": "code",
   "execution_count": 16,
   "metadata": {},
   "outputs": [
    {
     "data": {
      "text/plain": [
       "0    102690\n",
       "1      7602\n",
       "Name: incentivized, dtype: int64"
      ]
     },
     "execution_count": 16,
     "metadata": {},
     "output_type": "execute_result"
    }
   ],
   "source": [
    "reviews_new.incentivized.value_counts()"
   ]
  },
  {
   "cell_type": "markdown",
   "metadata": {},
   "source": [
    "### Review analyze"
   ]
  },
  {
   "cell_type": "code",
   "execution_count": 17,
   "metadata": {},
   "outputs": [],
   "source": [
    "df=pd.DataFrame(reviews_new[['ReviewText','incentivized','review_id']])"
   ]
  },
  {
   "cell_type": "code",
   "execution_count": 18,
   "metadata": {},
   "outputs": [],
   "source": [
    "#sentence tokenizer for each review\n",
    "punkt_param = PunktParameters()\n",
    "punkt_param.abbrev_types = set(['dr', 'vs', 'mr', 'mrs'])\n",
    "tokenizer = PunktSentenceTokenizer(punkt_param)\n",
    "df['review_sentences'] = df['ReviewText'].map(lambda text: tokenizer.tokenize(text))"
   ]
  },
  {
   "cell_type": "code",
   "execution_count": 19,
   "metadata": {},
   "outputs": [
    {
     "data": {
      "text/html": [
       "<div>\n",
       "<style scoped>\n",
       "    .dataframe tbody tr th:only-of-type {\n",
       "        vertical-align: middle;\n",
       "    }\n",
       "\n",
       "    .dataframe tbody tr th {\n",
       "        vertical-align: top;\n",
       "    }\n",
       "\n",
       "    .dataframe thead th {\n",
       "        text-align: right;\n",
       "    }\n",
       "</style>\n",
       "<table border=\"1\" class=\"dataframe\">\n",
       "  <thead>\n",
       "    <tr style=\"text-align: right;\">\n",
       "      <th></th>\n",
       "      <th>ReviewText</th>\n",
       "      <th>incentivized</th>\n",
       "      <th>review_id</th>\n",
       "      <th>review_sentences</th>\n",
       "    </tr>\n",
       "  </thead>\n",
       "  <tbody>\n",
       "    <tr>\n",
       "      <th>0</th>\n",
       "      <td>I tried ItCosmetics about a year ago and loved...</td>\n",
       "      <td>0</td>\n",
       "      <td>881</td>\n",
       "      <td>[I tried ItCosmetics about a year ago and love...</td>\n",
       "    </tr>\n",
       "    <tr>\n",
       "      <th>1</th>\n",
       "      <td>I've purchased hundreds of items from Sephora ...</td>\n",
       "      <td>0</td>\n",
       "      <td>888</td>\n",
       "      <td>[I've purchased hundreds of items from Sephora...</td>\n",
       "    </tr>\n",
       "    <tr>\n",
       "      <th>2</th>\n",
       "      <td>I'm obsessed with taking care of my skin and I...</td>\n",
       "      <td>0</td>\n",
       "      <td>894</td>\n",
       "      <td>[I'm obsessed with taking care of my skin and ...</td>\n",
       "    </tr>\n",
       "    <tr>\n",
       "      <th>3</th>\n",
       "      <td>This is the only \"foundation\" ive ever bought ...</td>\n",
       "      <td>0</td>\n",
       "      <td>897</td>\n",
       "      <td>[This is the only \"foundation\" ive ever bought...</td>\n",
       "    </tr>\n",
       "    <tr>\n",
       "      <th>4</th>\n",
       "      <td>I have to use 6 blottung sheets after using this</td>\n",
       "      <td>0</td>\n",
       "      <td>901</td>\n",
       "      <td>[I have to use 6 blottung sheets after using t...</td>\n",
       "    </tr>\n",
       "  </tbody>\n",
       "</table>\n",
       "</div>"
      ],
      "text/plain": [
       "                                          ReviewText  incentivized  review_id  \\\n",
       "0  I tried ItCosmetics about a year ago and loved...             0        881   \n",
       "1  I've purchased hundreds of items from Sephora ...             0        888   \n",
       "2  I'm obsessed with taking care of my skin and I...             0        894   \n",
       "3  This is the only \"foundation\" ive ever bought ...             0        897   \n",
       "4   I have to use 6 blottung sheets after using this             0        901   \n",
       "\n",
       "                                    review_sentences  \n",
       "0  [I tried ItCosmetics about a year ago and love...  \n",
       "1  [I've purchased hundreds of items from Sephora...  \n",
       "2  [I'm obsessed with taking care of my skin and ...  \n",
       "3  [This is the only \"foundation\" ive ever bought...  \n",
       "4  [I have to use 6 blottung sheets after using t...  "
      ]
     },
     "execution_count": 19,
     "metadata": {},
     "output_type": "execute_result"
    }
   ],
   "source": [
    "df.head()"
   ]
  },
  {
   "cell_type": "code",
   "execution_count": null,
   "metadata": {},
   "outputs": [],
   "source": [
    "df.to_csv('review_table.csv')"
   ]
  },
  {
   "cell_type": "code",
   "execution_count": 20,
   "metadata": {},
   "outputs": [],
   "source": [
    "# split long sentences in review_sentences\n",
    "def split_long_sentence(sentences):\n",
    "    shorter_sentences = []\n",
    "    for sentence in sentences:\n",
    "        if len(sentence) >= 50:\n",
    "            sub_sentences = re.split('&|!|;|and|,|~|but|\\.|so i|\\s-\\s|\\(|\\)', sentence.lower())\n",
    "            sub_sentences = [s.strip() for s in sub_sentences]\n",
    "            shorter_sentences += sub_sentences\n",
    "        else:\n",
    "            shorter_sentences.append(sentence.lower())\n",
    "    shorter_sentences = filter(lambda s: len(s) > 13 \n",
    "                               and not s.startswith('i have')\n",
    "                               and not s.startswith('i also have')\n",
    "                               and not s.startswith('i\\'m')\n",
    "                               and not s.startswith('i had')\n",
    "                               and not s.startswith('i\\'ve been')\n",
    "                               and not s.startswith('i thought')\n",
    "                               and not s.startswith('i was ')\n",
    "                               and not s.startswith('i use ')\n",
    "                               and not s.startswith('i used to')\n",
    "                               and not s.startswith('if you have')\n",
    "                               and not s.startswith('i suffer')\n",
    "                               and not ('i do have' in s)\n",
    "                               and not ('looking for' in s)\n",
    "                               and not ('i purchase' in s)\n",
    "                               and not ('i bought' in s)\n",
    "                               , shorter_sentences)\n",
    "    return list(shorter_sentences)"
   ]
  },
  {
   "cell_type": "code",
   "execution_count": 22,
   "metadata": {},
   "outputs": [
    {
     "name": "stderr",
     "output_type": "stream",
     "text": [
      "/anaconda3/lib/python3.6/site-packages/ipykernel_launcher.py:4: FutureWarning: Method .as_matrix will be removed in a future version. Use .values instead.\n",
      "  after removing the cwd from sys.path.\n"
     ]
    },
    {
     "data": {
      "text/html": [
       "<div>\n",
       "<style scoped>\n",
       "    .dataframe tbody tr th:only-of-type {\n",
       "        vertical-align: middle;\n",
       "    }\n",
       "\n",
       "    .dataframe tbody tr th {\n",
       "        vertical-align: top;\n",
       "    }\n",
       "\n",
       "    .dataframe thead th {\n",
       "        text-align: right;\n",
       "    }\n",
       "</style>\n",
       "<table border=\"1\" class=\"dataframe\">\n",
       "  <thead>\n",
       "    <tr style=\"text-align: right;\">\n",
       "      <th></th>\n",
       "      <th>review_id</th>\n",
       "      <th>sentence</th>\n",
       "    </tr>\n",
       "  </thead>\n",
       "  <tbody>\n",
       "    <tr>\n",
       "      <th>96132</th>\n",
       "      <td>39222</td>\n",
       "      <td>it's wonderful to awaken the senses</td>\n",
       "    </tr>\n",
       "    <tr>\n",
       "      <th>575946</th>\n",
       "      <td>251323</td>\n",
       "      <td>really enjoyed it</td>\n",
       "    </tr>\n",
       "    <tr>\n",
       "      <th>286402</th>\n",
       "      <td>129967</td>\n",
       "      <td>i can't believe i've gone so long without this...</td>\n",
       "    </tr>\n",
       "    <tr>\n",
       "      <th>461858</th>\n",
       "      <td>210479</td>\n",
       "      <td>a lovely combination</td>\n",
       "    </tr>\n",
       "    <tr>\n",
       "      <th>493675</th>\n",
       "      <td>217860</td>\n",
       "      <td>even though i only had the finest of lines</td>\n",
       "    </tr>\n",
       "    <tr>\n",
       "      <th>506506</th>\n",
       "      <td>224399</td>\n",
       "      <td>usually clinique moisture surge</td>\n",
       "    </tr>\n",
       "    <tr>\n",
       "      <th>596162</th>\n",
       "      <td>261118</td>\n",
       "      <td>i can't say that it makes my makeup last that ...</td>\n",
       "    </tr>\n",
       "    <tr>\n",
       "      <th>393710</th>\n",
       "      <td>185869</td>\n",
       "      <td>this isn't full coverage.</td>\n",
       "    </tr>\n",
       "    <tr>\n",
       "      <th>820052</th>\n",
       "      <td>367937</td>\n",
       "      <td>it's hard to control the amount you put on as ...</td>\n",
       "    </tr>\n",
       "    <tr>\n",
       "      <th>484816</th>\n",
       "      <td>216269</td>\n",
       "      <td>my skin was greasy</td>\n",
       "    </tr>\n",
       "  </tbody>\n",
       "</table>\n",
       "</div>"
      ],
      "text/plain": [
       "        review_id                                           sentence\n",
       "96132       39222                it's wonderful to awaken the senses\n",
       "575946     251323                                  really enjoyed it\n",
       "286402     129967  i can't believe i've gone so long without this...\n",
       "461858     210479                               a lovely combination\n",
       "493675     217860         even though i only had the finest of lines\n",
       "506506     224399                    usually clinique moisture surge\n",
       "596162     261118  i can't say that it makes my makeup last that ...\n",
       "393710     185869                          this isn't full coverage.\n",
       "820052     367937  it's hard to control the amount you put on as ...\n",
       "484816     216269                                 my skin was greasy"
      ]
     },
     "execution_count": 22,
     "metadata": {},
     "output_type": "execute_result"
    }
   ],
   "source": [
    "#Generate table of all the sentences with review_ids\n",
    "review_ids = []\n",
    "review_sentences = []\n",
    "for review in df.as_matrix():\n",
    "    curr_review_id = review[2]\n",
    "    curr_review_sentences = review[-1]\n",
    "    \n",
    "    # Divide long sentences even longer if possible!\n",
    "    shorter_sentences = split_long_sentence(curr_review_sentences)\n",
    "    \n",
    "    review_ids += [curr_review_id] * len(shorter_sentences)\n",
    "    review_sentences += shorter_sentences\n",
    "    \n",
    "df_review_sentences = pd.DataFrame({'review_id': review_ids, 'sentence': review_sentences})\n",
    "df_review_sentences.sample(10)"
   ]
  },
  {
   "cell_type": "code",
   "execution_count": 23,
   "metadata": {},
   "outputs": [
    {
     "data": {
      "text/plain": [
       "(837827, 2)"
      ]
     },
     "execution_count": 23,
     "metadata": {},
     "output_type": "execute_result"
    }
   ],
   "source": [
    "df_review_sentences.shape"
   ]
  },
  {
   "cell_type": "code",
   "execution_count": 24,
   "metadata": {},
   "outputs": [],
   "source": [
    "## Tokenize sentences\n",
    "from nltk.corpus import stopwords\n",
    "stop_words = set(stopwords.words('english'))"
   ]
  },
  {
   "cell_type": "code",
   "execution_count": 25,
   "metadata": {},
   "outputs": [],
   "source": [
    "tokenizer_regex = re.compile(r\"[\\s]\")\n",
    "def tokenize(text):\n",
    "    clean_text = re.sub(r'[,!.$\\d%&~?()#<>\"=/-]', ' ', text)\n",
    "    clean_text = ' '.join(clean_text.split())\n",
    "    tokens = [tok.strip().lower() for tok in tokenizer_regex.split(clean_text)]\n",
    "    filtered_tokens = tokens# filter(lambda tok: tok not in stop_words, tokens)\n",
    "    return list(filtered_tokens)"
   ]
  },
  {
   "cell_type": "code",
   "execution_count": 26,
   "metadata": {},
   "outputs": [
    {
     "data": {
      "text/plain": [
       "defaultdict(<function __main__.get_word_weights.<locals>.<lambda>>,\n",
       "            {'bird': 1.8472978603872037,\n",
       "             'blah': 2.252762968495368,\n",
       "             'cat': 1.5596157879354227,\n",
       "             'dog': 1.8472978603872037,\n",
       "             'fish': 1.5596157879354227,\n",
       "             'harper': 2.252762968495368,\n",
       "             'tata': 2.252762968495368})"
      ]
     },
     "execution_count": 26,
     "metadata": {},
     "output_type": "execute_result"
    }
   ],
   "source": [
    "def get_word_weights(docs):\n",
    "    tfidf = TfidfVectorizer(stop_words=frozenset(stop_words), \n",
    "                            tokenizer=tokenize,\n",
    "                            ngram_range=(1,1))\n",
    "    tfidf.fit(docs)\n",
    "    max_idf = max(tfidf.idf_)\n",
    "    word2weight = defaultdict(lambda: max_idf,\n",
    "                                    [(w, tfidf.idf_[i]) for w, i in tfidf.vocabulary_.items()])\n",
    "    return word2weight\n",
    "    \n",
    "test_docs2 = [\"dog cat fish\",\"dog cat cat\",\"fish bird\", 'bird fish. bird', 'blah cat', 'tata harper']\n",
    "get_word_weights(test_docs2)"
   ]
  },
  {
   "cell_type": "code",
   "execution_count": 27,
   "metadata": {},
   "outputs": [
    {
     "data": {
      "text/plain": [
       "array([1.84729786, 2.25276297, 1.55961579, 1.84729786, 1.55961579,\n",
       "       2.25276297, 2.25276297])"
      ]
     },
     "execution_count": 27,
     "metadata": {},
     "output_type": "execute_result"
    }
   ],
   "source": [
    "tfidf = TfidfVectorizer(stop_words=frozenset(stop_words), \n",
    "                            tokenizer=tokenize,\n",
    "                            ngram_range=(1,1))\n",
    "tfidf.fit(test_docs2)\n",
    "tfidf.idf_"
   ]
  },
  {
   "cell_type": "code",
   "execution_count": 28,
   "metadata": {},
   "outputs": [
    {
     "data": {
      "text/plain": [
       "dict_items([('dog', 3), ('cat', 2), ('fish', 4), ('bird', 0), ('blah', 1), ('tata', 6), ('harper', 5)])"
      ]
     },
     "execution_count": 28,
     "metadata": {},
     "output_type": "execute_result"
    }
   ],
   "source": [
    "tfidf.vocabulary_.items()"
   ]
  },
  {
   "cell_type": "code",
   "execution_count": 29,
   "metadata": {},
   "outputs": [],
   "source": [
    "w2v = models.KeyedVectors.load_word2vec_format(\"GoogleNews-vectors-negative300.bin\",binary=True)\n",
    "#model = gensim.models.Word2Vec(texts, size=100, window=5, min_count=1, workers=4,sg=1)"
   ]
  },
  {
   "cell_type": "code",
   "execution_count": null,
   "metadata": {},
   "outputs": [],
   "source": [
    "#w2v.most_similar(positive=['wrinkle'], topn=25)"
   ]
  },
  {
   "cell_type": "code",
   "execution_count": 30,
   "metadata": {},
   "outputs": [
    {
     "data": {
      "text/plain": [
       "True"
      ]
     },
     "execution_count": 30,
     "metadata": {},
     "output_type": "execute_result"
    }
   ],
   "source": [
    "'review' in w2v.vocab"
   ]
  },
  {
   "cell_type": "code",
   "execution_count": 31,
   "metadata": {},
   "outputs": [],
   "source": [
    "df_review_sentences['tokenized_words'] = df_review_sentences['sentence'].map(lambda sentence: tokenize(sentence))\n",
    "df_review_sentences['tokenized_filtered_words'] = df_review_sentences['tokenized_words'].map(\n",
    "    lambda tokenized_words: [word for word in tokenized_words if word in w2v.vocab])\n",
    "df_review_sentences['tokenized_filtered_words_length'] = df_review_sentences['tokenized_filtered_words'].map(\n",
    "    lambda tokenized_filtered_words: len(tokenized_filtered_words))"
   ]
  },
  {
   "cell_type": "code",
   "execution_count": 32,
   "metadata": {},
   "outputs": [],
   "source": [
    "df_review_sentences = df_review_sentences[df_review_sentences.tokenized_filtered_words_length > 3]\n",
    "df_review_sentences = df_review_sentences.reset_index()\n",
    "word2weight = get_word_weights(df_review_sentences['sentence'])"
   ]
  },
  {
   "cell_type": "code",
   "execution_count": 33,
   "metadata": {},
   "outputs": [
    {
     "data": {
      "text/html": [
       "<div>\n",
       "<style scoped>\n",
       "    .dataframe tbody tr th:only-of-type {\n",
       "        vertical-align: middle;\n",
       "    }\n",
       "\n",
       "    .dataframe tbody tr th {\n",
       "        vertical-align: top;\n",
       "    }\n",
       "\n",
       "    .dataframe thead th {\n",
       "        text-align: right;\n",
       "    }\n",
       "</style>\n",
       "<table border=\"1\" class=\"dataframe\">\n",
       "  <thead>\n",
       "    <tr style=\"text-align: right;\">\n",
       "      <th></th>\n",
       "      <th>index</th>\n",
       "      <th>review_id</th>\n",
       "      <th>sentence</th>\n",
       "      <th>tokenized_words</th>\n",
       "      <th>tokenized_filtered_words</th>\n",
       "      <th>tokenized_filtered_words_length</th>\n",
       "    </tr>\n",
       "  </thead>\n",
       "  <tbody>\n",
       "    <tr>\n",
       "      <th>0</th>\n",
       "      <td>0</td>\n",
       "      <td>881</td>\n",
       "      <td>i tried itcosmetics about a year ago</td>\n",
       "      <td>[i, tried, itcosmetics, about, a, year, ago]</td>\n",
       "      <td>[i, tried, about, year, ago]</td>\n",
       "      <td>5</td>\n",
       "    </tr>\n",
       "    <tr>\n",
       "      <th>1</th>\n",
       "      <td>2</td>\n",
       "      <td>881</td>\n",
       "      <td>bye bye pore powder</td>\n",
       "      <td>[bye, bye, pore, powder]</td>\n",
       "      <td>[bye, bye, pore, powder]</td>\n",
       "      <td>4</td>\n",
       "    </tr>\n",
       "    <tr>\n",
       "      <th>2</th>\n",
       "      <td>3</td>\n",
       "      <td>881</td>\n",
       "      <td>of course i had to try the cc cream</td>\n",
       "      <td>[of, course, i, had, to, try, the, cc, cream]</td>\n",
       "      <td>[course, i, had, try, the, cc, cream]</td>\n",
       "      <td>7</td>\n",
       "    </tr>\n",
       "    <tr>\n",
       "      <th>3</th>\n",
       "      <td>4</td>\n",
       "      <td>881</td>\n",
       "      <td>just as with all other itcosmetics products i ...</td>\n",
       "      <td>[just, as, with, all, other, itcosmetics, prod...</td>\n",
       "      <td>[just, as, with, all, other, products, i, love...</td>\n",
       "      <td>9</td>\n",
       "    </tr>\n",
       "    <tr>\n",
       "      <th>4</th>\n",
       "      <td>5</td>\n",
       "      <td>881</td>\n",
       "      <td>during the summer i like having something ligh...</td>\n",
       "      <td>[during, the, summer, i, like, having, somethi...</td>\n",
       "      <td>[during, the, summer, i, like, having, somethi...</td>\n",
       "      <td>15</td>\n",
       "    </tr>\n",
       "  </tbody>\n",
       "</table>\n",
       "</div>"
      ],
      "text/plain": [
       "   index  review_id                                           sentence  \\\n",
       "0      0        881               i tried itcosmetics about a year ago   \n",
       "1      2        881                                bye bye pore powder   \n",
       "2      3        881                of course i had to try the cc cream   \n",
       "3      4        881  just as with all other itcosmetics products i ...   \n",
       "4      5        881  during the summer i like having something ligh...   \n",
       "\n",
       "                                     tokenized_words  \\\n",
       "0       [i, tried, itcosmetics, about, a, year, ago]   \n",
       "1                           [bye, bye, pore, powder]   \n",
       "2      [of, course, i, had, to, try, the, cc, cream]   \n",
       "3  [just, as, with, all, other, itcosmetics, prod...   \n",
       "4  [during, the, summer, i, like, having, somethi...   \n",
       "\n",
       "                            tokenized_filtered_words  \\\n",
       "0                       [i, tried, about, year, ago]   \n",
       "1                           [bye, bye, pore, powder]   \n",
       "2              [course, i, had, try, the, cc, cream]   \n",
       "3  [just, as, with, all, other, products, i, love...   \n",
       "4  [during, the, summer, i, like, having, somethi...   \n",
       "\n",
       "   tokenized_filtered_words_length  \n",
       "0                                5  \n",
       "1                                4  \n",
       "2                                7  \n",
       "3                                9  \n",
       "4                               15  "
      ]
     },
     "execution_count": 33,
     "metadata": {},
     "output_type": "execute_result"
    }
   ],
   "source": [
    "df_review_sentences.head()"
   ]
  },
  {
   "cell_type": "code",
   "execution_count": 35,
   "metadata": {},
   "outputs": [
    {
     "data": {
      "text/plain": [
       "dict_keys(['cat', 'mouse', 'dog'])"
      ]
     },
     "execution_count": 35,
     "metadata": {},
     "output_type": "execute_result"
    }
   ],
   "source": [
    "def get_docs_vocab(docs):\n",
    "    count_vectorizer = CountVectorizer(ngram_range=(1,1),  \n",
    "                                       stop_words=frozenset(stop_words), \n",
    "                                       tokenizer=tokenize)\n",
    "    count_vectorizer.fit_transform(docs)\n",
    "    vocab = count_vectorizer.vocabulary_.keys()\n",
    "    return vocab\n",
    "get_docs_vocab(['cat mouse dog', 'mouse dog'])"
   ]
  },
  {
   "cell_type": "code",
   "execution_count": 36,
   "metadata": {},
   "outputs": [],
   "source": [
    "def get_pos_weight(tokens):\n",
    "    word_pos = nltk.pos_tag(tokens)\n",
    "    word_to_weight = {}\n",
    "    for word, pos in word_pos:\n",
    "        if pos.startswith('JJ') | pos.startswith('RB'):\n",
    "            word_to_weight[word] = 2 # adjective or adverb\n",
    "        elif (pos == 'VBD') | (pos == 'VBG') | (pos == 'VBN'):\n",
    "            word_to_weight[word] = 1.3 # verb\n",
    "#         elif (pos == 'NN'):\n",
    "#              word_to_weight[word] = 1.1 # noun\n",
    "        else: \n",
    "            word_to_weight[word] = 1\n",
    "    return word_to_weight"
   ]
  },
  {
   "cell_type": "code",
   "execution_count": 37,
   "metadata": {},
   "outputs": [
    {
     "name": "stdout",
     "output_type": "stream",
     "text": [
      "defaultdict(<class 'list'>, {'VBN': ['refreshed', 'irritated', 'hydrated'], 'VBG': ['tingling'], 'JJ': ['tried', 'dry', 'sensitive', 'tight', 'pleased', 'favorite'], 'NN': ['redness', 'recommend', 'pick', 'matte', \"didn't\"], 'VBD': ['dried', 'added', 'removed'], 'RB': ['eczema', 'slippery', 'forever', 'milky'], 'NNS': ['feels'], 'CD': ['five']})\n"
     ]
    }
   ],
   "source": [
    "import nltk\n",
    "test_pos = defaultdict( list )\n",
    "test_words = ['refreshed', 'tingling', 'tried', 'redness', 'dried', 'dry', 'added',\n",
    "              'eczema', 'sensitive', 'tight', 'recommend', 'pick', 'matte', 'removed', 'slippery',\n",
    "              'irritated', 'pleased', 'feels', 'five', 'forever', 'milky', 'hydrated', 'favorite', 'didn\\'t']\n",
    "test_words_pos = nltk.pos_tag(test_words)\n",
    "for word, pos in test_words_pos:\n",
    "    test_pos[pos].append(word)\n",
    "#get_pos_weight(test_words)\n",
    "print(test_pos)"
   ]
  },
  {
   "cell_type": "code",
   "execution_count": 38,
   "metadata": {},
   "outputs": [
    {
     "name": "stdout",
     "output_type": "stream",
     "text": [
      "[nltk_data] Downloading package averaged_perceptron_tagger to\n",
      "[nltk_data]     /Users/Minmin/nltk_data...\n",
      "[nltk_data]   Package averaged_perceptron_tagger is already up-to-\n",
      "[nltk_data]       date!\n"
     ]
    },
    {
     "data": {
      "text/plain": [
       "True"
      ]
     },
     "execution_count": 38,
     "metadata": {},
     "output_type": "execute_result"
    }
   ],
   "source": [
    "import nltk\n",
    "nltk.download('averaged_perceptron_tagger')"
   ]
  },
  {
   "cell_type": "code",
   "execution_count": 39,
   "metadata": {},
   "outputs": [],
   "source": [
    "docs_vocab = get_docs_vocab(df_review_sentences['sentence'])\n"
   ]
  },
  {
   "cell_type": "code",
   "execution_count": 41,
   "metadata": {},
   "outputs": [],
   "source": [
    "pos_weights = get_pos_weight(list(docs_vocab))"
   ]
  },
  {
   "cell_type": "code",
   "execution_count": 42,
   "metadata": {},
   "outputs": [],
   "source": [
    "def word2vec_pos_weight(tokenized_filtered_words):\n",
    "    return np.mean([w2v[w] * pos_weights.get(w, 1) * word2weight[w]\n",
    "             for w in tokenized_filtered_words], axis=0)"
   ]
  },
  {
   "cell_type": "code",
   "execution_count": 43,
   "metadata": {},
   "outputs": [],
   "source": [
    "def word2vec_tfidf(tokenized_filtered_words):\n",
    "    return np.mean([w2v[w] * word2weight[w]\n",
    "             for w in tokenized_filtered_words], axis=0)"
   ]
  },
  {
   "cell_type": "code",
   "execution_count": 44,
   "metadata": {},
   "outputs": [],
   "source": [
    "df_review_sentences['word2vec'] = df_review_sentences['tokenized_filtered_words'].apply(\n",
    "    # lambda tokenized_filtered_words: np.mean(w2v[tokenized_filtered_words], axis=0)\n",
    "    #lambda tokenized_filtered_words: word2vec_tfidf(tokenized_filtered_words)\n",
    "    lambda tokenized_filtered_words: word2vec_pos_weight(tokenized_filtered_words)\n",
    ")"
   ]
  },
  {
   "cell_type": "code",
   "execution_count": 45,
   "metadata": {},
   "outputs": [
    {
     "data": {
      "text/plain": [
       "(739460, 300)"
      ]
     },
     "execution_count": 45,
     "metadata": {},
     "output_type": "execute_result"
    }
   ],
   "source": [
    "sentence_word_vectors = np.array(df_review_sentences['word2vec'].values.tolist())\n",
    "sentence_word_vectors.shape"
   ]
  },
  {
   "cell_type": "code",
   "execution_count": 425,
   "metadata": {},
   "outputs": [],
   "source": [
    "def plot_kmeans_inertia(data):\n",
    "    \"\"\"Figure out optimized number of clusters for KMeans\"\"\"\n",
    "    max_number_clusters = 30\n",
    "    inertia_values = []\n",
    "    for cluster_count in range(1, max_number_clusters+1):\n",
    "        print('fitting cluster ', cluster_count)\n",
    "        km = KMeans(n_clusters=cluster_count)\n",
    "        km.fit(data)\n",
    "        inertia_values.append(km.inertia_)\n",
    "\n",
    "    plt.plot(range(1, max_number_clusters+1), inertia_values)\n",
    "    plt.savefig('kmeans_inertia.png', dpi=500)"
   ]
  },
  {
   "cell_type": "code",
   "execution_count": 426,
   "metadata": {},
   "outputs": [
    {
     "name": "stdout",
     "output_type": "stream",
     "text": [
      "fitting cluster  1\n",
      "fitting cluster  2\n",
      "fitting cluster  3\n",
      "fitting cluster  4\n",
      "fitting cluster  5\n",
      "fitting cluster  6\n",
      "fitting cluster  7\n",
      "fitting cluster  8\n",
      "fitting cluster  9\n",
      "fitting cluster  10\n",
      "fitting cluster  11\n",
      "fitting cluster  12\n",
      "fitting cluster  13\n",
      "fitting cluster  14\n",
      "fitting cluster  15\n",
      "fitting cluster  16\n",
      "fitting cluster  17\n",
      "fitting cluster  18\n",
      "fitting cluster  19\n",
      "fitting cluster  20\n",
      "fitting cluster  21\n",
      "fitting cluster  22\n",
      "fitting cluster  23\n",
      "fitting cluster  24\n",
      "fitting cluster  25\n",
      "fitting cluster  26\n",
      "fitting cluster  27\n",
      "fitting cluster  28\n",
      "fitting cluster  29\n",
      "fitting cluster  30\n"
     ]
    },
    {
     "data": {
      "image/png": "[encoded data removed]",
      "text/plain": [
       "<matplotlib.figure.Figure at 0x1bd15a3240>"
      ]
     },
     "metadata": {},
     "output_type": "display_data"
    }
   ],
   "source": [
    "plot_kmeans_inertia(sentence_word_vectors_truncated_sub)"
   ]
  },
  {
   "cell_type": "markdown",
   "metadata": {},
   "source": [
    "## Kmeans"
   ]
  },
  {
   "cell_type": "code",
   "execution_count": 46,
   "metadata": {},
   "outputs": [
    {
     "data": {
      "text/plain": [
       "(739460, 300)"
      ]
     },
     "execution_count": 46,
     "metadata": {},
     "output_type": "execute_result"
    }
   ],
   "source": [
    "number_sentences = sentence_word_vectors.shape[0]\n",
    "df_review_sentences_truncated = df_review_sentences.iloc[0:number_sentences, :]\n",
    "sentence_word_vectors_truncated = sentence_word_vectors[0:number_sentences, :]\n",
    "sentence_word_vectors_truncated = normalize(sentence_word_vectors_truncated)\n",
    "sentence_word_vectors_truncated.shape"
   ]
  },
  {
   "cell_type": "code",
   "execution_count": 47,
   "metadata": {},
   "outputs": [
    {
     "data": {
      "text/plain": [
       "739460"
      ]
     },
     "execution_count": 47,
     "metadata": {},
     "output_type": "execute_result"
    }
   ],
   "source": [
    "cluster_count = 25\n",
    "km = MiniBatchKMeans(n_clusters=cluster_count,random_state=1)\n",
    "#km = KMeans(n_clusters=cluster_count,random_state=3)\n",
    "review_word2vec_clusters = km.fit_predict(sentence_word_vectors_truncated)\n",
    "len(review_word2vec_clusters)"
   ]
  },
  {
   "cell_type": "code",
   "execution_count": 48,
   "metadata": {},
   "outputs": [
    {
     "data": {
      "text/html": [
       "<div>\n",
       "<style scoped>\n",
       "    .dataframe tbody tr th:only-of-type {\n",
       "        vertical-align: middle;\n",
       "    }\n",
       "\n",
       "    .dataframe tbody tr th {\n",
       "        vertical-align: top;\n",
       "    }\n",
       "\n",
       "    .dataframe thead th {\n",
       "        text-align: right;\n",
       "    }\n",
       "</style>\n",
       "<table border=\"1\" class=\"dataframe\">\n",
       "  <thead>\n",
       "    <tr style=\"text-align: right;\">\n",
       "      <th></th>\n",
       "      <th>index</th>\n",
       "      <th>review_id</th>\n",
       "      <th>sentence</th>\n",
       "      <th>tokenized_words</th>\n",
       "      <th>tokenized_filtered_words</th>\n",
       "      <th>tokenized_filtered_words_length</th>\n",
       "      <th>word2vec</th>\n",
       "      <th>feat_0</th>\n",
       "      <th>feat_1</th>\n",
       "      <th>feat_2</th>\n",
       "      <th>...</th>\n",
       "      <th>feat_15</th>\n",
       "      <th>feat_16</th>\n",
       "      <th>feat_17</th>\n",
       "      <th>feat_18</th>\n",
       "      <th>feat_19</th>\n",
       "      <th>feat_20</th>\n",
       "      <th>feat_21</th>\n",
       "      <th>feat_22</th>\n",
       "      <th>feat_23</th>\n",
       "      <th>feat_24</th>\n",
       "    </tr>\n",
       "  </thead>\n",
       "  <tbody>\n",
       "    <tr>\n",
       "      <th>174</th>\n",
       "      <td>203</td>\n",
       "      <td>981</td>\n",
       "      <td>no matter what primer</td>\n",
       "      <td>[no, matter, what, primer]</td>\n",
       "      <td>[no, matter, what, primer]</td>\n",
       "      <td>4</td>\n",
       "      <td>[1.6564009, 0.1348876, 1.2009382, -0.14266068,...</td>\n",
       "      <td>1</td>\n",
       "      <td>0</td>\n",
       "      <td>0</td>\n",
       "      <td>...</td>\n",
       "      <td>0</td>\n",
       "      <td>0</td>\n",
       "      <td>0</td>\n",
       "      <td>0</td>\n",
       "      <td>0</td>\n",
       "      <td>0</td>\n",
       "      <td>0</td>\n",
       "      <td>0</td>\n",
       "      <td>0</td>\n",
       "      <td>0</td>\n",
       "    </tr>\n",
       "    <tr>\n",
       "      <th>438</th>\n",
       "      <td>503</td>\n",
       "      <td>1085</td>\n",
       "      <td>pilling issues even with a primer</td>\n",
       "      <td>[pilling, issues, even, with, a, primer]</td>\n",
       "      <td>[pilling, issues, even, with, primer]</td>\n",
       "      <td>5</td>\n",
       "      <td>[0.46836734, 2.204165, -1.3638164, 0.13145824,...</td>\n",
       "      <td>1</td>\n",
       "      <td>0</td>\n",
       "      <td>0</td>\n",
       "      <td>...</td>\n",
       "      <td>0</td>\n",
       "      <td>0</td>\n",
       "      <td>0</td>\n",
       "      <td>0</td>\n",
       "      <td>0</td>\n",
       "      <td>0</td>\n",
       "      <td>0</td>\n",
       "      <td>0</td>\n",
       "      <td>0</td>\n",
       "      <td>0</td>\n",
       "    </tr>\n",
       "    <tr>\n",
       "      <th>607</th>\n",
       "      <td>688</td>\n",
       "      <td>1159</td>\n",
       "      <td>tried using primer underneath</td>\n",
       "      <td>[tried, using, primer, underneath]</td>\n",
       "      <td>[tried, using, primer, underneath]</td>\n",
       "      <td>4</td>\n",
       "      <td>[1.5520695, 0.30630547, 0.13912174, -0.1742793...</td>\n",
       "      <td>1</td>\n",
       "      <td>0</td>\n",
       "      <td>0</td>\n",
       "      <td>...</td>\n",
       "      <td>0</td>\n",
       "      <td>0</td>\n",
       "      <td>0</td>\n",
       "      <td>0</td>\n",
       "      <td>0</td>\n",
       "      <td>0</td>\n",
       "      <td>0</td>\n",
       "      <td>0</td>\n",
       "      <td>0</td>\n",
       "      <td>0</td>\n",
       "    </tr>\n",
       "    <tr>\n",
       "      <th>995</th>\n",
       "      <td>1124</td>\n",
       "      <td>1463</td>\n",
       "      <td>without moisturizer or primer</td>\n",
       "      <td>[without, moisturizer, or, primer]</td>\n",
       "      <td>[without, moisturizer, or, primer]</td>\n",
       "      <td>4</td>\n",
       "      <td>[1.1174576, 0.40472728, 0.34562433, 0.48568708...</td>\n",
       "      <td>1</td>\n",
       "      <td>0</td>\n",
       "      <td>0</td>\n",
       "      <td>...</td>\n",
       "      <td>0</td>\n",
       "      <td>0</td>\n",
       "      <td>0</td>\n",
       "      <td>0</td>\n",
       "      <td>0</td>\n",
       "      <td>0</td>\n",
       "      <td>0</td>\n",
       "      <td>0</td>\n",
       "      <td>0</td>\n",
       "      <td>0</td>\n",
       "    </tr>\n",
       "    <tr>\n",
       "      <th>1257</th>\n",
       "      <td>1416</td>\n",
       "      <td>1617</td>\n",
       "      <td>even with a primer/setting powder</td>\n",
       "      <td>[even, with, a, primer, setting, powder]</td>\n",
       "      <td>[even, with, primer, setting, powder]</td>\n",
       "      <td>5</td>\n",
       "      <td>[0.28232974, 0.88873976, 0.6070827, -0.0291965...</td>\n",
       "      <td>1</td>\n",
       "      <td>0</td>\n",
       "      <td>0</td>\n",
       "      <td>...</td>\n",
       "      <td>0</td>\n",
       "      <td>0</td>\n",
       "      <td>0</td>\n",
       "      <td>0</td>\n",
       "      <td>0</td>\n",
       "      <td>0</td>\n",
       "      <td>0</td>\n",
       "      <td>0</td>\n",
       "      <td>0</td>\n",
       "      <td>0</td>\n",
       "    </tr>\n",
       "  </tbody>\n",
       "</table>\n",
       "<p>5 rows × 32 columns</p>\n",
       "</div>"
      ],
      "text/plain": [
       "      index  review_id                           sentence  \\\n",
       "174     203        981              no matter what primer   \n",
       "438     503       1085  pilling issues even with a primer   \n",
       "607     688       1159      tried using primer underneath   \n",
       "995    1124       1463      without moisturizer or primer   \n",
       "1257   1416       1617  even with a primer/setting powder   \n",
       "\n",
       "                               tokenized_words  \\\n",
       "174                 [no, matter, what, primer]   \n",
       "438   [pilling, issues, even, with, a, primer]   \n",
       "607         [tried, using, primer, underneath]   \n",
       "995         [without, moisturizer, or, primer]   \n",
       "1257  [even, with, a, primer, setting, powder]   \n",
       "\n",
       "                   tokenized_filtered_words  tokenized_filtered_words_length  \\\n",
       "174              [no, matter, what, primer]                                4   \n",
       "438   [pilling, issues, even, with, primer]                                5   \n",
       "607      [tried, using, primer, underneath]                                4   \n",
       "995      [without, moisturizer, or, primer]                                4   \n",
       "1257  [even, with, primer, setting, powder]                                5   \n",
       "\n",
       "                                               word2vec  feat_0  feat_1  \\\n",
       "174   [1.6564009, 0.1348876, 1.2009382, -0.14266068,...       1       0   \n",
       "438   [0.46836734, 2.204165, -1.3638164, 0.13145824,...       1       0   \n",
       "607   [1.5520695, 0.30630547, 0.13912174, -0.1742793...       1       0   \n",
       "995   [1.1174576, 0.40472728, 0.34562433, 0.48568708...       1       0   \n",
       "1257  [0.28232974, 0.88873976, 0.6070827, -0.0291965...       1       0   \n",
       "\n",
       "      feat_2   ...     feat_15  feat_16  feat_17  feat_18  feat_19  feat_20  \\\n",
       "174        0   ...           0        0        0        0        0        0   \n",
       "438        0   ...           0        0        0        0        0        0   \n",
       "607        0   ...           0        0        0        0        0        0   \n",
       "995        0   ...           0        0        0        0        0        0   \n",
       "1257       0   ...           0        0        0        0        0        0   \n",
       "\n",
       "      feat_21  feat_22  feat_23  feat_24  \n",
       "174         0        0        0        0  \n",
       "438         0        0        0        0  \n",
       "607         0        0        0        0  \n",
       "995         0        0        0        0  \n",
       "1257        0        0        0        0  \n",
       "\n",
       "[5 rows x 32 columns]"
      ]
     },
     "execution_count": 48,
     "metadata": {},
     "output_type": "execute_result"
    }
   ],
   "source": [
    "df_sentence_cluster = pd.DataFrame({})\n",
    "cluster_columns = ['feat_' + str(i) for i in range(0, cluster_count)]\n",
    "for i in range(0, cluster_count):\n",
    "    cluster_column = cluster_columns[i]\n",
    "    df_sentence_cluster[cluster_column] = (review_word2vec_clusters == i).astype(int)\n",
    "    \n",
    "df_sentence = pd.concat([df_review_sentences, df_sentence_cluster], axis=1)\n",
    "df_sentence[df_sentence['feat_0'] == 1].head()"
   ]
  },
  {
   "cell_type": "code",
   "execution_count": 49,
   "metadata": {},
   "outputs": [
    {
     "data": {
      "text/html": [
       "<div>\n",
       "<style scoped>\n",
       "    .dataframe tbody tr th:only-of-type {\n",
       "        vertical-align: middle;\n",
       "    }\n",
       "\n",
       "    .dataframe tbody tr th {\n",
       "        vertical-align: top;\n",
       "    }\n",
       "\n",
       "    .dataframe thead th {\n",
       "        text-align: right;\n",
       "    }\n",
       "</style>\n",
       "<table border=\"1\" class=\"dataframe\">\n",
       "  <thead>\n",
       "    <tr style=\"text-align: right;\">\n",
       "      <th></th>\n",
       "      <th>index</th>\n",
       "      <th>review_id</th>\n",
       "      <th>sentence</th>\n",
       "      <th>tokenized_words</th>\n",
       "      <th>tokenized_filtered_words</th>\n",
       "      <th>tokenized_filtered_words_length</th>\n",
       "      <th>word2vec</th>\n",
       "      <th>feat_0</th>\n",
       "      <th>feat_1</th>\n",
       "      <th>feat_2</th>\n",
       "      <th>...</th>\n",
       "      <th>feat_18</th>\n",
       "      <th>feat_19</th>\n",
       "      <th>feat_20</th>\n",
       "      <th>feat_21</th>\n",
       "      <th>feat_22</th>\n",
       "      <th>feat_23</th>\n",
       "      <th>feat_24</th>\n",
       "      <th>ReviewText</th>\n",
       "      <th>incentivized</th>\n",
       "      <th>review_sentences</th>\n",
       "    </tr>\n",
       "  </thead>\n",
       "  <tbody>\n",
       "    <tr>\n",
       "      <th>0</th>\n",
       "      <td>0</td>\n",
       "      <td>881</td>\n",
       "      <td>i tried itcosmetics about a year ago</td>\n",
       "      <td>[i, tried, itcosmetics, about, a, year, ago]</td>\n",
       "      <td>[i, tried, about, year, ago]</td>\n",
       "      <td>5</td>\n",
       "      <td>[0.5861834, 0.23684621, 1.3089736, 0.16396539,...</td>\n",
       "      <td>0</td>\n",
       "      <td>0</td>\n",
       "      <td>0</td>\n",
       "      <td>...</td>\n",
       "      <td>0</td>\n",
       "      <td>0</td>\n",
       "      <td>1</td>\n",
       "      <td>0</td>\n",
       "      <td>0</td>\n",
       "      <td>0</td>\n",
       "      <td>0</td>\n",
       "      <td>I tried ItCosmetics about a year ago and loved...</td>\n",
       "      <td>0</td>\n",
       "      <td>[I tried ItCosmetics about a year ago and love...</td>\n",
       "    </tr>\n",
       "    <tr>\n",
       "      <th>1</th>\n",
       "      <td>2</td>\n",
       "      <td>881</td>\n",
       "      <td>bye bye pore powder</td>\n",
       "      <td>[bye, bye, pore, powder]</td>\n",
       "      <td>[bye, bye, pore, powder]</td>\n",
       "      <td>4</td>\n",
       "      <td>[0.55354995, 1.2629566, 1.2497354, -2.2420397,...</td>\n",
       "      <td>0</td>\n",
       "      <td>0</td>\n",
       "      <td>0</td>\n",
       "      <td>...</td>\n",
       "      <td>0</td>\n",
       "      <td>0</td>\n",
       "      <td>0</td>\n",
       "      <td>0</td>\n",
       "      <td>0</td>\n",
       "      <td>0</td>\n",
       "      <td>0</td>\n",
       "      <td>I tried ItCosmetics about a year ago and loved...</td>\n",
       "      <td>0</td>\n",
       "      <td>[I tried ItCosmetics about a year ago and love...</td>\n",
       "    </tr>\n",
       "  </tbody>\n",
       "</table>\n",
       "<p>2 rows × 35 columns</p>\n",
       "</div>"
      ],
      "text/plain": [
       "   index  review_id                              sentence  \\\n",
       "0      0        881  i tried itcosmetics about a year ago   \n",
       "1      2        881                   bye bye pore powder   \n",
       "\n",
       "                                tokenized_words      tokenized_filtered_words  \\\n",
       "0  [i, tried, itcosmetics, about, a, year, ago]  [i, tried, about, year, ago]   \n",
       "1                      [bye, bye, pore, powder]      [bye, bye, pore, powder]   \n",
       "\n",
       "   tokenized_filtered_words_length  \\\n",
       "0                                5   \n",
       "1                                4   \n",
       "\n",
       "                                            word2vec  feat_0  feat_1  feat_2  \\\n",
       "0  [0.5861834, 0.23684621, 1.3089736, 0.16396539,...       0       0       0   \n",
       "1  [0.55354995, 1.2629566, 1.2497354, -2.2420397,...       0       0       0   \n",
       "\n",
       "                         ...                          feat_18  feat_19  \\\n",
       "0                        ...                                0        0   \n",
       "1                        ...                                0        0   \n",
       "\n",
       "   feat_20  feat_21  feat_22  feat_23  feat_24  \\\n",
       "0        1        0        0        0        0   \n",
       "1        0        0        0        0        0   \n",
       "\n",
       "                                          ReviewText  incentivized  \\\n",
       "0  I tried ItCosmetics about a year ago and loved...             0   \n",
       "1  I tried ItCosmetics about a year ago and loved...             0   \n",
       "\n",
       "                                    review_sentences  \n",
       "0  [I tried ItCosmetics about a year ago and love...  \n",
       "1  [I tried ItCosmetics about a year ago and love...  \n",
       "\n",
       "[2 rows x 35 columns]"
      ]
     },
     "execution_count": 49,
     "metadata": {},
     "output_type": "execute_result"
    }
   ],
   "source": [
    "df_sentence_all = pd.merge(df_sentence, df, on='review_id', how='left')\n",
    "df_sentence_all.head(2)"
   ]
  },
  {
   "cell_type": "code",
   "execution_count": 50,
   "metadata": {},
   "outputs": [
    {
     "name": "stdout",
     "output_type": "stream",
     "text": [
      "15 0.308843680826394\n"
     ]
    }
   ],
   "source": [
    "ratio=[]\n",
    "for i in range(25):\n",
    "    a=df_sentence_all[df_sentence_all['feat_'+str(i)] ==1]\n",
    "    ratio.append(sum(a['incentivized'])/len(a['incentivized']))\n",
    "n=np.argmax(ratio)\n",
    "print(n,ratio[n])"
   ]
  },
  {
   "cell_type": "code",
   "execution_count": 43,
   "metadata": {},
   "outputs": [],
   "source": [
    "df_sentence_all[df_sentence_all['feat_15'] == 1]['sentence'].to_csv('feature.csv')"
   ]
  },
  {
   "cell_type": "code",
   "execution_count": 51,
   "metadata": {},
   "outputs": [
    {
     "data": {
      "image/png": "[encoded data removed]",
      "text/plain": [
       "<matplotlib.figure.Figure at 0x1b7d1df9b0>"
      ]
     },
     "metadata": {},
     "output_type": "display_data"
    }
   ],
   "source": [
    "text=''.join(list(df_sentence_all[df_sentence_all['feat_15'] == 1]['sentence']))\n",
    "wordcloud = WordCloud(width=480, height=480,background_color=\"white\",margin=0,colormap=\"Reds\",\n",
    "                     stopwords=[\"samplei\", \"sephora\",'this','i','thisi'],max_words=20).generate(text)\n",
    "plt.imshow(wordcloud, interpolation='bilinear')\n",
    "plt.axis(\"off\")\n",
    "plt.margins(x=0, y=0)\n",
    "#plt.show()\n",
    "plt.savefig('wordcloud.png', dpi=500,transparent=True)"
   ]
  },
  {
   "cell_type": "code",
   "execution_count": 52,
   "metadata": {},
   "outputs": [
    {
     "data": {
      "text/plain": [
       "[('a', 8232),\n",
       " ('sample', 5865),\n",
       " ('this', 5120),\n",
       " ('of', 3555),\n",
       " ('got', 3198),\n",
       " ('received', 3114),\n",
       " ('as', 2848),\n",
       " ('the', 1816),\n",
       " ('samplei', 1688),\n",
       " ('in', 1414),\n",
       " ('my', 1128),\n",
       " ('deluxe', 1094),\n",
       " ('from', 1071),\n",
       " ('i', 987),\n",
       " ('product', 971)]"
      ]
     },
     "execution_count": 52,
     "metadata": {},
     "output_type": "execute_result"
    }
   ],
   "source": [
    "from collections import Counter\n",
    "c = Counter(text.split())\n",
    "c.most_common(15)"
   ]
  },
  {
   "cell_type": "code",
   "execution_count": 53,
   "metadata": {},
   "outputs": [
    {
     "data": {
      "image/png": "[encoded data removed]",
      "text/plain": [
       "<matplotlib.figure.Figure at 0x1b7cb79dd8>"
      ]
     },
     "metadata": {},
     "output_type": "display_data"
    }
   ],
   "source": [
    "text=''.join(list(df_sentence_all[df_sentence_all['feat_23'] == 1]['sentence']))\n",
    "wordcloud = WordCloud(width=480, height=480, margin=0,background_color=\"white\",colormap=\"Reds\",\n",
    "                     stopwords=['was','in','skinmy','skin','my','is'],max_words=50).generate(text)\n",
    "plt.imshow(wordcloud, interpolation='bilinear')\n",
    "plt.axis(\"off\")\n",
    "plt.margins(x=0, y=0)\n",
    "plt.show()"
   ]
  },
  {
   "cell_type": "code",
   "execution_count": null,
   "metadata": {},
   "outputs": [],
   "source": [
    "#!pip3 install pyldavis\n",
    "import pyLDAvis, pyLDAvis.sklearn\n",
    "from IPython.display import display\n",
    "from sklearn import datasets\n",
    "\n",
    "categories = ['alt.atheism', 'comp.graphics', 'rec.sport.baseball']\n",
    "ng_train = datasets.fetch_20newsgroups(subset='train', \n",
    "                                       categories=categories, \n",
    "                                       remove=('headers', \n",
    "                                               'footers', 'quotes'))\n",
    "\n",
    "count_vectorizer = CountVectorizer(ngram_range=(1, 2),  \n",
    "                                   stop_words='english', \n",
    "                                   token_pattern=\"\\\\b[a-z][a-z]+\\\\b\")\n",
    "\n",
    "X = count_vectorizer.fit_transform(ng_train.data)\n",
    "n_topics = 3\n",
    "n_iter = 10\n",
    "lda = LatentDirichletAllocation(n_topics=n_topics,\n",
    "                                max_iter=n_iter,\n",
    "                                random_state=42)\n",
    "data = lda.fit_transform(X)\n",
    "\n",
    "# Setup to run in Jupyter notebook\n",
    "pyLDAvis.enable_notebook()\n",
    "\n",
    "# Create the visualization\n",
    "vis = pyLDAvis.sklearn.prepare(lda, X, count_vectorizer)\n",
    "\n",
    "# Export as a standalone HTML web page\n",
    "# pyLDAvis.save_html(vis, 'lda.html')\n",
    "\n",
    "# Let's view it!\n",
    "display(vis)"
   ]
  },
  {
   "cell_type": "markdown",
   "metadata": {},
   "source": [
    "## Classification model"
   ]
  },
  {
   "cell_type": "markdown",
   "metadata": {},
   "source": [
    "### Without text feature"
   ]
  },
  {
   "cell_type": "code",
   "execution_count": 54,
   "metadata": {},
   "outputs": [],
   "source": [
    "reviews_new['n_reviews']=reviews_new['review_id'].groupby(reviews_new['AuthorId']).transform('count')\n",
    "reviews_new['Helpfulness']=reviews_new['Helpfulness'].fillna(0)\n",
    "reviews_new['productPrice']=reviews_new['productPrice'].apply(lambda x: float(x))\n",
    "reviews_new['vib']=reviews_new['vib'].apply(lambda x: 0 if x=='no' or x=='unknow' else 1)"
   ]
  },
  {
   "cell_type": "code",
   "execution_count": 55,
   "metadata": {},
   "outputs": [],
   "source": [
    "reviews_new['complimentary']=reviews_new['ReviewText'].apply(lambda x: 1 if 'complimentary'in x.split() \n",
    "                                                             or 'Influenster' in x.split() \n",
    "                                                             or 'influenster' in x.split()\n",
    "                                                             else 0)"
   ]
  },
  {
   "cell_type": "code",
   "execution_count": 56,
   "metadata": {},
   "outputs": [
    {
     "data": {
      "text/plain": [
       "1    385\n",
       "0    257\n",
       "Name: incentivized, dtype: int64"
      ]
     },
     "execution_count": 56,
     "metadata": {},
     "output_type": "execute_result"
    }
   ],
   "source": [
    "reviews_new.loc[reviews_new['complimentary']==1]['incentivized'].value_counts()"
   ]
  },
  {
   "cell_type": "code",
   "execution_count": 57,
   "metadata": {},
   "outputs": [],
   "source": [
    "# add sentiment scores\n",
    "sent=pd.read_pickle('sent_data.pickle')\n",
    "reviews_new['sent_compound']=list(sent[0])\n",
    "reviews_new['sent_neg']=list(sent[1])\n",
    "reviews_new['sent_neu']=list(sent[2])\n",
    "reviews_new['sent_pos']=list(sent[3])"
   ]
  },
  {
   "cell_type": "code",
   "execution_count": 58,
   "metadata": {},
   "outputs": [
    {
     "data": {
      "text/plain": [
       "Index(['review_id', 'AuthorId', 'IsFeatured', 'IsRatingsOnly', 'IsRecommended',\n",
       "       'Rating', 'Title', 'ReviewText', 'Helpfulness', 'product_id',\n",
       "       'productPrice', 'incentivized', 'age', 'vib', 'n_reviews',\n",
       "       'complimentary', 'sent_compound', 'sent_neg', 'sent_neu', 'sent_pos'],\n",
       "      dtype='object')"
      ]
     },
     "execution_count": 58,
     "metadata": {},
     "output_type": "execute_result"
    }
   ],
   "source": [
    "reviews_new.columns"
   ]
  },
  {
   "cell_type": "code",
   "execution_count": 59,
   "metadata": {},
   "outputs": [],
   "source": [
    "observations_nt=reviews_new[['review_id','Rating','Helpfulness','n_reviews','productPrice',\n",
    "                           'age','vib','incentivized','sent_compound', 'sent_neg', 'sent_neu', 'sent_pos','complimentary']]\n",
    "observations_nt = pd.get_dummies(observations_nt, columns=['age'])\n",
    "observations_nt.columns = list(map(lambda x: x.lower().replace(' ', '_').replace('/', '_').replace('__','_'), observations_nt.columns))"
   ]
  },
  {
   "cell_type": "code",
   "execution_count": 60,
   "metadata": {},
   "outputs": [],
   "source": [
    "mapper = DataFrameMapper([\n",
    "        (['rating','helpfulness','n_reviews','productprice','complimentary'], [Imputer(strategy='median'),StandardScaler()]),\n",
    "         (['vib','age_13to17','age_18to24',\n",
    "       'age_25to34', 'age_35to44', 'age_45to54', 'age_over54',\n",
    "          'sent_neg', 'sent_neu', 'sent_pos'], None)#[Imputer(),StandardScaler()])\n",
    "])"
   ]
  },
  {
   "cell_type": "code",
   "execution_count": 108,
   "metadata": {},
   "outputs": [],
   "source": [
    "y_nt =observations_nt['incentivized']\n",
    "X_nt=mapper.fit_transform(observations_nt)\n",
    "X_train_nt, X_test_nt, y_train_nt, y_test_nt = train_test_split(X_nt, y_nt, test_size=0.4, random_state=43)"
   ]
  },
  {
   "cell_type": "code",
   "execution_count": 62,
   "metadata": {},
   "outputs": [
    {
     "name": "stdout",
     "output_type": "stream",
     "text": [
      "0.5862504424818414\n",
      "0.5808157153527302\n"
     ]
    }
   ],
   "source": [
    "nb_nt = GaussianNB()\n",
    "nb_nt.fit(X_train_nt, y_train_nt)\n",
    "print(roc_auc_score(y_train_nt, nb_nt.predict(X_train_nt)))\n",
    "print(roc_auc_score(y_test_nt, nb_nt.predict(X_test_nt)))\n",
    "y_pred_nb_nt = nb_nt.predict_proba(X_test_nt)[:, 1]\n",
    "fpr_nb_nt, tpr_nb_nt, _ = roc_curve(y_test_nt, y_pred_nb_nt)"
   ]
  },
  {
   "cell_type": "code",
   "execution_count": 109,
   "metadata": {},
   "outputs": [
    {
     "name": "stdout",
     "output_type": "stream",
     "text": [
      "0.5352416520392731\n",
      "0.5345684413528968\n"
     ]
    }
   ],
   "source": [
    "gradboost_nt =GradientBoostingClassifier()\n",
    "gradboost_nt.fit(X_train_nt, y_train_nt)\n",
    "print(roc_auc_score(y_train_nt, gradboost_nt.predict(X_train_nt)))\n",
    "print(roc_auc_score(y_test_nt, gradboost_nt.predict(X_test_nt)))"
   ]
  },
  {
   "cell_type": "code",
   "execution_count": 131,
   "metadata": {},
   "outputs": [
    {
     "data": {
      "text/plain": [
       "array([0.02424976, 0.03742006, 0.01099092, ..., 0.05801869, 0.02952493,\n",
       "       0.02855241])"
      ]
     },
     "execution_count": 131,
     "metadata": {},
     "output_type": "execute_result"
    }
   ],
   "source": [
    "y_pred_grd_nt = gradboost_nt.predict_proba(X_test_nt)[:,1]\n",
    "fpr_grd_nt, tpr_grd_nt, _ = roc_curve(y_test_nt, y_pred_grd_nt)\n",
    "y_pred_grd_nt"
   ]
  },
  {
   "cell_type": "code",
   "execution_count": 129,
   "metadata": {},
   "outputs": [
    {
     "data": {
      "text/plain": [
       "0.5345684413528968"
      ]
     },
     "execution_count": 129,
     "metadata": {},
     "output_type": "execute_result"
    }
   ],
   "source": [
    "from sklearn.metrics import auc\n",
    "fpr, tpr, thresholds = roc_curve(y_test_nt, y_pred_grd_nt)\n",
    "auc(fpr, tpr)"
   ]
  },
  {
   "cell_type": "markdown",
   "metadata": {},
   "source": [
    "### With text features"
   ]
  },
  {
   "cell_type": "code",
   "execution_count": 135,
   "metadata": {},
   "outputs": [],
   "source": [
    "all_feature_columns=df_sentence.iloc[:,7:32].copy()\n",
    "all_feature_columns['review_id']=list(df_sentence['review_id'])"
   ]
  },
  {
   "cell_type": "code",
   "execution_count": 136,
   "metadata": {},
   "outputs": [],
   "source": [
    "all_feature_columns_reviews=all_feature_columns.groupby(['review_id'],as_index=False).sum()"
   ]
  },
  {
   "cell_type": "code",
   "execution_count": 137,
   "metadata": {},
   "outputs": [
    {
     "data": {
      "text/html": [
       "<div>\n",
       "<style scoped>\n",
       "    .dataframe tbody tr th:only-of-type {\n",
       "        vertical-align: middle;\n",
       "    }\n",
       "\n",
       "    .dataframe tbody tr th {\n",
       "        vertical-align: top;\n",
       "    }\n",
       "\n",
       "    .dataframe thead th {\n",
       "        text-align: right;\n",
       "    }\n",
       "</style>\n",
       "<table border=\"1\" class=\"dataframe\">\n",
       "  <thead>\n",
       "    <tr style=\"text-align: right;\">\n",
       "      <th></th>\n",
       "      <th>review_id</th>\n",
       "      <th>feat_0</th>\n",
       "      <th>feat_1</th>\n",
       "      <th>feat_2</th>\n",
       "      <th>feat_3</th>\n",
       "      <th>feat_4</th>\n",
       "      <th>feat_5</th>\n",
       "      <th>feat_6</th>\n",
       "      <th>feat_7</th>\n",
       "      <th>feat_8</th>\n",
       "      <th>...</th>\n",
       "      <th>feat_15</th>\n",
       "      <th>feat_16</th>\n",
       "      <th>feat_17</th>\n",
       "      <th>feat_18</th>\n",
       "      <th>feat_19</th>\n",
       "      <th>feat_20</th>\n",
       "      <th>feat_21</th>\n",
       "      <th>feat_22</th>\n",
       "      <th>feat_23</th>\n",
       "      <th>feat_24</th>\n",
       "    </tr>\n",
       "  </thead>\n",
       "  <tbody>\n",
       "    <tr>\n",
       "      <th>0</th>\n",
       "      <td>881</td>\n",
       "      <td>0</td>\n",
       "      <td>0</td>\n",
       "      <td>0</td>\n",
       "      <td>0</td>\n",
       "      <td>0</td>\n",
       "      <td>0</td>\n",
       "      <td>2</td>\n",
       "      <td>0</td>\n",
       "      <td>1</td>\n",
       "      <td>...</td>\n",
       "      <td>0</td>\n",
       "      <td>0</td>\n",
       "      <td>0</td>\n",
       "      <td>0</td>\n",
       "      <td>0</td>\n",
       "      <td>2</td>\n",
       "      <td>0</td>\n",
       "      <td>0</td>\n",
       "      <td>0</td>\n",
       "      <td>0</td>\n",
       "    </tr>\n",
       "    <tr>\n",
       "      <th>1</th>\n",
       "      <td>888</td>\n",
       "      <td>0</td>\n",
       "      <td>0</td>\n",
       "      <td>0</td>\n",
       "      <td>1</td>\n",
       "      <td>0</td>\n",
       "      <td>0</td>\n",
       "      <td>0</td>\n",
       "      <td>1</td>\n",
       "      <td>4</td>\n",
       "      <td>...</td>\n",
       "      <td>0</td>\n",
       "      <td>0</td>\n",
       "      <td>0</td>\n",
       "      <td>0</td>\n",
       "      <td>0</td>\n",
       "      <td>0</td>\n",
       "      <td>0</td>\n",
       "      <td>0</td>\n",
       "      <td>0</td>\n",
       "      <td>1</td>\n",
       "    </tr>\n",
       "  </tbody>\n",
       "</table>\n",
       "<p>2 rows × 26 columns</p>\n",
       "</div>"
      ],
      "text/plain": [
       "   review_id  feat_0  feat_1  feat_2  feat_3  feat_4  feat_5  feat_6  feat_7  \\\n",
       "0        881       0       0       0       0       0       0       2       0   \n",
       "1        888       0       0       0       1       0       0       0       1   \n",
       "\n",
       "   feat_8   ...     feat_15  feat_16  feat_17  feat_18  feat_19  feat_20  \\\n",
       "0       1   ...           0        0        0        0        0        2   \n",
       "1       4   ...           0        0        0        0        0        0   \n",
       "\n",
       "   feat_21  feat_22  feat_23  feat_24  \n",
       "0        0        0        0        0  \n",
       "1        0        0        0        1  \n",
       "\n",
       "[2 rows x 26 columns]"
      ]
     },
     "execution_count": 137,
     "metadata": {},
     "output_type": "execute_result"
    }
   ],
   "source": [
    "all_feature_columns_reviews.head(2)"
   ]
  },
  {
   "cell_type": "code",
   "execution_count": 138,
   "metadata": {},
   "outputs": [
    {
     "data": {
      "text/html": [
       "<div>\n",
       "<style scoped>\n",
       "    .dataframe tbody tr th:only-of-type {\n",
       "        vertical-align: middle;\n",
       "    }\n",
       "\n",
       "    .dataframe tbody tr th {\n",
       "        vertical-align: top;\n",
       "    }\n",
       "\n",
       "    .dataframe thead th {\n",
       "        text-align: right;\n",
       "    }\n",
       "</style>\n",
       "<table border=\"1\" class=\"dataframe\">\n",
       "  <thead>\n",
       "    <tr style=\"text-align: right;\">\n",
       "      <th></th>\n",
       "      <th>review_id</th>\n",
       "      <th>feat_0</th>\n",
       "      <th>feat_1</th>\n",
       "      <th>feat_2</th>\n",
       "      <th>feat_3</th>\n",
       "      <th>feat_4</th>\n",
       "      <th>feat_5</th>\n",
       "      <th>feat_6</th>\n",
       "      <th>feat_7</th>\n",
       "      <th>feat_8</th>\n",
       "      <th>...</th>\n",
       "      <th>sent_neu</th>\n",
       "      <th>sent_pos</th>\n",
       "      <th>complimentary</th>\n",
       "      <th>age_13to17</th>\n",
       "      <th>age_18to24</th>\n",
       "      <th>age_25to34</th>\n",
       "      <th>age_35to44</th>\n",
       "      <th>age_45to54</th>\n",
       "      <th>age_over54</th>\n",
       "      <th>age_unknow</th>\n",
       "    </tr>\n",
       "  </thead>\n",
       "  <tbody>\n",
       "    <tr>\n",
       "      <th>0</th>\n",
       "      <td>881</td>\n",
       "      <td>0</td>\n",
       "      <td>0</td>\n",
       "      <td>0</td>\n",
       "      <td>0</td>\n",
       "      <td>0</td>\n",
       "      <td>0</td>\n",
       "      <td>2</td>\n",
       "      <td>0</td>\n",
       "      <td>1</td>\n",
       "      <td>...</td>\n",
       "      <td>0.732500</td>\n",
       "      <td>0.267500</td>\n",
       "      <td>0</td>\n",
       "      <td>0</td>\n",
       "      <td>0</td>\n",
       "      <td>0</td>\n",
       "      <td>0</td>\n",
       "      <td>0</td>\n",
       "      <td>0</td>\n",
       "      <td>1</td>\n",
       "    </tr>\n",
       "    <tr>\n",
       "      <th>1</th>\n",
       "      <td>888</td>\n",
       "      <td>0</td>\n",
       "      <td>0</td>\n",
       "      <td>0</td>\n",
       "      <td>1</td>\n",
       "      <td>0</td>\n",
       "      <td>0</td>\n",
       "      <td>0</td>\n",
       "      <td>1</td>\n",
       "      <td>4</td>\n",
       "      <td>...</td>\n",
       "      <td>0.690571</td>\n",
       "      <td>0.302429</td>\n",
       "      <td>0</td>\n",
       "      <td>0</td>\n",
       "      <td>0</td>\n",
       "      <td>0</td>\n",
       "      <td>0</td>\n",
       "      <td>0</td>\n",
       "      <td>0</td>\n",
       "      <td>1</td>\n",
       "    </tr>\n",
       "  </tbody>\n",
       "</table>\n",
       "<p>2 rows × 44 columns</p>\n",
       "</div>"
      ],
      "text/plain": [
       "   review_id  feat_0  feat_1  feat_2  feat_3  feat_4  feat_5  feat_6  feat_7  \\\n",
       "0        881       0       0       0       0       0       0       2       0   \n",
       "1        888       0       0       0       1       0       0       0       1   \n",
       "\n",
       "   feat_8     ...      sent_neu  sent_pos  complimentary  age_13to17  \\\n",
       "0       1     ...      0.732500  0.267500              0           0   \n",
       "1       4     ...      0.690571  0.302429              0           0   \n",
       "\n",
       "   age_18to24  age_25to34  age_35to44  age_45to54  age_over54  age_unknow  \n",
       "0           0           0           0           0           0           1  \n",
       "1           0           0           0           0           0           1  \n",
       "\n",
       "[2 rows x 44 columns]"
      ]
     },
     "execution_count": 138,
     "metadata": {},
     "output_type": "execute_result"
    }
   ],
   "source": [
    "text_feature_merged = pd.merge(all_feature_columns_reviews, observations_nt, on='review_id', how='inner')\n",
    "text_feature_merged.head(2)"
   ]
  },
  {
   "cell_type": "code",
   "execution_count": 139,
   "metadata": {},
   "outputs": [
    {
     "data": {
      "text/plain": [
       "Index(['review_id', 'feat_0', 'feat_1', 'feat_2', 'feat_3', 'feat_4', 'feat_5',\n",
       "       'feat_6', 'feat_7', 'feat_8', 'feat_9', 'feat_10', 'feat_11', 'feat_12',\n",
       "       'feat_13', 'feat_14', 'feat_15', 'feat_16', 'feat_17', 'feat_18',\n",
       "       'feat_19', 'feat_20', 'feat_21', 'feat_22', 'feat_23', 'feat_24',\n",
       "       'rating', 'helpfulness', 'n_reviews', 'productprice', 'vib',\n",
       "       'incentivized', 'sent_compound', 'sent_neg', 'sent_neu', 'sent_pos',\n",
       "       'complimentary', 'age_13to17', 'age_18to24', 'age_25to34', 'age_35to44',\n",
       "       'age_45to54', 'age_over54', 'age_unknow'],\n",
       "      dtype='object')"
      ]
     },
     "execution_count": 139,
     "metadata": {},
     "output_type": "execute_result"
    }
   ],
   "source": [
    "text_feature_merged.columns"
   ]
  },
  {
   "cell_type": "code",
   "execution_count": 140,
   "metadata": {},
   "outputs": [],
   "source": [
    "mapper_merged = DataFrameMapper([\n",
    "        (['rating','helpfulness','n_reviews','productprice'],[Imputer(strategy='median'),StandardScaler()]),\n",
    "         (['vib','age_13to17','age_18to24',\n",
    "       'age_25to34', 'age_35to44', 'age_45to54', 'age_over54',\n",
    "        'feat_0', 'feat_1', 'feat_2', 'feat_3', 'feat_4', 'feat_5',\n",
    "       'feat_6', 'feat_7', 'feat_8', 'feat_9', 'feat_10', 'feat_11', 'feat_12',\n",
    "       'feat_13', 'feat_14', 'feat_15', 'feat_16', 'feat_17', 'feat_18',\n",
    "       'feat_19', 'feat_20', 'feat_21', 'feat_22', 'feat_23','feat_24',\n",
    "          'sent_neg', 'sent_neu', 'sent_pos'], None)#[Imputer(),StandardScaler()])\n",
    "])"
   ]
  },
  {
   "cell_type": "code",
   "execution_count": 141,
   "metadata": {},
   "outputs": [],
   "source": [
    "y_mg =text_feature_merged['incentivized']\n",
    "X_mg=mapper_merged.fit_transform(text_feature_merged)\n",
    "X_train_mg, X_test_mg, y_train_mg, y_test_mg = train_test_split(X_mg, y_mg, test_size=0.4, random_state=43)"
   ]
  },
  {
   "cell_type": "code",
   "execution_count": 142,
   "metadata": {},
   "outputs": [
    {
     "name": "stdout",
     "output_type": "stream",
     "text": [
      "0.6635441438983744\n",
      "0.6638964045984671\n"
     ]
    }
   ],
   "source": [
    "nb = GaussianNB()\n",
    "nb.fit(X_train_mg, y_train_mg)\n",
    "print(roc_auc_score(y_train_mg, nb.predict(X_train_mg)))\n",
    "print(roc_auc_score(y_test_mg, nb.predict(X_test_mg)))"
   ]
  },
  {
   "cell_type": "code",
   "execution_count": 71,
   "metadata": {},
   "outputs": [],
   "source": [
    "trail_list=list(reviews_new.loc[(reviews_new['complimentary']==1)&(reviews_new['incentivized']!=1)]['review_id'])"
   ]
  },
  {
   "cell_type": "code",
   "execution_count": 74,
   "metadata": {},
   "outputs": [],
   "source": [
    "trail=text_feature_merged.loc[text_feature_merged['review_id']==372744]#372728#88121"
   ]
  },
  {
   "cell_type": "code",
   "execution_count": 75,
   "metadata": {},
   "outputs": [],
   "source": [
    "x_t=mapper_merged.transform(trail)"
   ]
  },
  {
   "cell_type": "code",
   "execution_count": 78,
   "metadata": {},
   "outputs": [
    {
     "data": {
      "text/plain": [
       "array([[0.91372427, 0.08627573]])"
      ]
     },
     "execution_count": 78,
     "metadata": {},
     "output_type": "execute_result"
    }
   ],
   "source": [
    "nb.predict_proba(x_t)"
   ]
  },
  {
   "cell_type": "code",
   "execution_count": 143,
   "metadata": {},
   "outputs": [
    {
     "data": {
      "text/plain": [
       "array([[0.27428281, 0.72571719]])"
      ]
     },
     "execution_count": 143,
     "metadata": {},
     "output_type": "execute_result"
    }
   ],
   "source": [
    "gradboost.predict_proba(x_t)"
   ]
  },
  {
   "cell_type": "code",
   "execution_count": 81,
   "metadata": {},
   "outputs": [
    {
     "data": {
      "text/html": [
       "<div>\n",
       "<style scoped>\n",
       "    .dataframe tbody tr th:only-of-type {\n",
       "        vertical-align: middle;\n",
       "    }\n",
       "\n",
       "    .dataframe tbody tr th {\n",
       "        vertical-align: top;\n",
       "    }\n",
       "\n",
       "    .dataframe thead th {\n",
       "        text-align: right;\n",
       "    }\n",
       "</style>\n",
       "<table border=\"1\" class=\"dataframe\">\n",
       "  <thead>\n",
       "    <tr style=\"text-align: right;\">\n",
       "      <th></th>\n",
       "      <th>incentivized</th>\n",
       "    </tr>\n",
       "  </thead>\n",
       "  <tbody>\n",
       "  </tbody>\n",
       "</table>\n",
       "</div>"
      ],
      "text/plain": [
       "Empty DataFrame\n",
       "Columns: [incentivized]\n",
       "Index: []"
      ]
     },
     "execution_count": 81,
     "metadata": {},
     "output_type": "execute_result"
    }
   ],
   "source": [
    "text_feature_merged.loc[text_feature_merged['review_id']==108910][['incentivized']]"
   ]
  },
  {
   "cell_type": "code",
   "execution_count": 80,
   "metadata": {},
   "outputs": [
    {
     "data": {
      "text/plain": [
       "\"I received this from Influenster to test and didn't love the results. It didn't make a noticeable difference in my eyes but maybe it will the more I continue to use it. It is definitely something that you need long term to use. I'm hoping that the results improve with use!\""
      ]
     },
     "execution_count": 80,
     "metadata": {},
     "output_type": "execute_result"
    }
   ],
   "source": [
    "reviews_new.loc[reviews_new['review_id']==39536]\n",
    "reviews_new['ReviewText'][108910]"
   ]
  },
  {
   "cell_type": "code",
   "execution_count": 671,
   "metadata": {},
   "outputs": [
    {
     "data": {
      "text/plain": [
       "0.3187494303162884"
      ]
     },
     "execution_count": 671,
     "metadata": {},
     "output_type": "execute_result"
    }
   ],
   "source": [
    "## prediction result on test dataset\n",
    "gradboost.predict(X_test_mg).sum()/len(gradboost.predict(X_test_mg))"
   ]
  },
  {
   "cell_type": "code",
   "execution_count": 672,
   "metadata": {},
   "outputs": [
    {
     "data": {
      "text/plain": [
       "0.07025339531492115"
      ]
     },
     "execution_count": 672,
     "metadata": {},
     "output_type": "execute_result"
    }
   ],
   "source": [
    "sum(y_test_mg)/len(y_test_mg)"
   ]
  },
  {
   "cell_type": "code",
   "execution_count": 130,
   "metadata": {},
   "outputs": [
    {
     "data": {
      "image/png": "[encoded data removed]",
      "text/plain": [
       "<matplotlib.figure.Figure at 0x1b9216a5c0>"
      ]
     },
     "metadata": {},
     "output_type": "display_data"
    }
   ],
   "source": [
    "plt.figure(figsize=(6,6))\n",
    "plt.plot([0, 1], [0, 1], 'k--')\n",
    "plt.plot(fpr, tpr, label='without topic features',c='grey',alpha=.7)\n",
    "#plt.plot(fpr_nb_lsa, tpr_nb_lsa, label='with review (LSA)')\n",
    "plt.plot(fpr_grd, tpr_grd, label='with topic features',c='red',alpha=.7)##941717\n",
    "\n",
    "\n",
    "plt.xlabel('False positive rate',fontsize='12')\n",
    "plt.ylabel('True positive rate',fontsize='12')\n",
    "plt.title('ROC curve', fontsize='15')\n",
    "plt.legend(loc='best')\n",
    "plt.savefig('ROC.png', dpi=500);"
   ]
  },
  {
   "cell_type": "markdown",
   "metadata": {},
   "source": [
    "## Balanced data"
   ]
  },
  {
   "cell_type": "code",
   "execution_count": 84,
   "metadata": {},
   "outputs": [],
   "source": [
    "g = text_feature_merged.groupby('incentivized')\n",
    "subset=g.apply(lambda x: x.sample((g.size().min())))"
   ]
  },
  {
   "cell_type": "code",
   "execution_count": 85,
   "metadata": {},
   "outputs": [],
   "source": [
    "y_s = subset['incentivized']\n",
    "X_s = mapper_merged.fit_transform(subset)\n",
    "X_strain, X_stest, y_strain, y_stest = train_test_split(X_s, y_s, test_size=0.4,random_state=42)"
   ]
  },
  {
   "cell_type": "code",
   "execution_count": 86,
   "metadata": {},
   "outputs": [
    {
     "name": "stdout",
     "output_type": "stream",
     "text": [
      "0.7000287393598351\n",
      "0.6986496317847649\n"
     ]
    }
   ],
   "source": [
    "nb = GaussianNB()\n",
    "nb.fit(X_strain, y_strain)\n",
    "print(roc_auc_score(y_strain, nb.predict(X_strain)))\n",
    "print(roc_auc_score(y_stest, nb.predict(X_stest)))\n",
    "y_pred_nb = nb.predict_proba(X_stest)[:, 1]\n",
    "fpr_nb, tpr_nb, _ = roc_curve(y_stest, y_pred_nb)"
   ]
  },
  {
   "cell_type": "code",
   "execution_count": 725,
   "metadata": {},
   "outputs": [
    {
     "name": "stdout",
     "output_type": "stream",
     "text": [
      "0.2515437114072148\n",
      "             precision    recall  f1-score   support\n",
      "\n",
      "          0       0.94      0.91      0.93     41040\n",
      "          1       0.17      0.25      0.21      3077\n",
      "\n",
      "avg / total       0.89      0.86      0.88     44117\n",
      "\n"
     ]
    }
   ],
   "source": [
    "print(recall_score(y_test_nt,nb_nt.predict(X_test_nt)))\n",
    "print(classification_report(y_test_nt,nb_nt.predict(X_test_nt)))"
   ]
  },
  {
   "cell_type": "code",
   "execution_count": 726,
   "metadata": {},
   "outputs": [
    {
     "name": "stdout",
     "output_type": "stream",
     "text": [
      "0.7648394421018488\n",
      "             precision    recall  f1-score   support\n",
      "\n",
      "          0       0.98      0.71      0.83     40801\n",
      "          1       0.17      0.76      0.28      3083\n",
      "\n",
      "avg / total       0.92      0.72      0.79     43884\n",
      "\n"
     ]
    }
   ],
   "source": [
    "print(recall_score(y_test_mg,gradboost.predict(X_test_mg)))\n",
    "print(classification_report(y_test_mg,gradboost.predict(X_test_mg)))"
   ]
  },
  {
   "cell_type": "code",
   "execution_count": 89,
   "metadata": {},
   "outputs": [
    {
     "name": "stdout",
     "output_type": "stream",
     "text": [
      "0.7581103398665422\n",
      "0.7381132955279804\n"
     ]
    }
   ],
   "source": [
    "gradboost =GradientBoostingClassifier()\n",
    "gradboost.fit(X_strain, y_strain)\n",
    "print(roc_auc_score(y_strain, gradboost.predict(X_strain)))\n",
    "print(roc_auc_score(y_stest, gradboost.predict(X_stest)))\n",
    "y_pred_grd = gradboost.predict_proba(X_stest)[:, 1]\n",
    "fpr_grd, tpr_grd, _ = roc_curve(y_stest, y_pred_grd)"
   ]
  },
  {
   "cell_type": "code",
   "execution_count": 294,
   "metadata": {},
   "outputs": [
    {
     "data": {
      "text/plain": [
       "0.7507323907782448"
      ]
     },
     "execution_count": 294,
     "metadata": {},
     "output_type": "execute_result"
    }
   ],
   "source": [
    "from sklearn.metrics import f1_score\n",
    "f1_score(y_stest,gradboost.predict(X_stest))  "
   ]
  },
  {
   "cell_type": "code",
   "execution_count": 101,
   "metadata": {},
   "outputs": [
    {
     "name": "stdout",
     "output_type": "stream",
     "text": [
      "0.8093572447000787\n",
      "0.7420003191574243\n"
     ]
    }
   ],
   "source": [
    "randomforest = RandomForestClassifier(n_estimators=80,max_depth=10,max_features= 'sqrt',random_state=42)\n",
    "randomforest.fit(X_strain, y_strain)\n",
    "print(roc_auc_score(y_strain, randomforest.predict(X_strain)))\n",
    "print(roc_auc_score(y_stest, randomforest.predict(X_stest)))"
   ]
  },
  {
   "cell_type": "code",
   "execution_count": 260,
   "metadata": {},
   "outputs": [],
   "source": [
    "importance=list(gradboost.feature_importances_)"
   ]
  },
  {
   "cell_type": "code",
   "execution_count": 105,
   "metadata": {},
   "outputs": [],
   "source": [
    "columns=['rating','helpfulness','n_reviews','productprice','vib','age_13to17','age_18to24',\n",
    "       'age_25to34', 'age_35to44', 'age_45to54', 'age_over54',\n",
    "        'feat_0', 'feat_1', 'feat_2', 'feat_3', 'feat_4', 'feat_5',\n",
    "       'feat_6', 'feat_7', 'feat_8', 'feat_9', 'feat_10', 'feat_11', 'feat_12',\n",
    "       'feat_13', 'feat_14', 'feat_15', 'feat_16', 'feat_17', 'feat_18',\n",
    "       'feat_19', 'feat_20', 'feat_21', 'feat_22', 'feat_23','feat_24',\n",
    "          'sent_neg', 'sent_neu', 'sent_pos']"
   ]
  },
  {
   "cell_type": "code",
   "execution_count": 261,
   "metadata": {},
   "outputs": [],
   "source": [
    "zipped=dict(zip(columns,importance))\n",
    "fi = pd.DataFrame().append(zipped, ignore_index=True).T.sort_values(by=0,ascending=False)"
   ]
  },
  {
   "cell_type": "code",
   "execution_count": 262,
   "metadata": {},
   "outputs": [
    {
     "data": {
      "text/plain": [
       "[0.17426821516736443,\n",
       " 0.11294665233279795,\n",
       " 0.0995381502339846,\n",
       " 0.08013832375241035,\n",
       " 0.06120252768544896,\n",
       " 0.056926593005595244,\n",
       " 0.05196173521513145,\n",
       " 0.04538045835121483,\n",
       " 0.02820757787837054,\n",
       " 0.02506646909635867,\n",
       " 0.020452273252004917,\n",
       " 0.02039264337720127,\n",
       " 0.017627214501763817,\n",
       " 0.016540304981614556,\n",
       " 0.016345926581762427,\n",
       " 0.015513298529321075,\n",
       " 0.014145089133912743,\n",
       " 0.013795507001755296,\n",
       " 0.012347549855075886,\n",
       " 0.011923844799411418,\n",
       " 0.011148879300795363,\n",
       " 0.010092739540837782,\n",
       " 0.009968079352054814,\n",
       " 0.008667291493096403,\n",
       " 0.0082284290829918,\n",
       " 0.007478650170705299,\n",
       " 0.00681327593966739,\n",
       " 0.00573790522359366,\n",
       " 0.00548825226491564,\n",
       " 0.005217945507306959,\n",
       " 0.005207359677985591,\n",
       " 0.00519347380108646,\n",
       " 0.004273126492009102,\n",
       " 0.003941196643380096,\n",
       " 0.0024060330435444048,\n",
       " 0.0020405744658756535,\n",
       " 0.001904390105554061,\n",
       " 0.0014720431620990114,\n",
       " 0.0]"
      ]
     },
     "execution_count": 262,
     "metadata": {},
     "output_type": "execute_result"
    }
   ],
   "source": [
    "list(fi[0])"
   ]
  },
  {
   "cell_type": "code",
   "execution_count": 263,
   "metadata": {},
   "outputs": [],
   "source": [
    "fi.columns=['importance']"
   ]
  },
  {
   "cell_type": "code",
   "execution_count": 264,
   "metadata": {},
   "outputs": [
    {
     "data": {
      "text/html": [
       "<div>\n",
       "<style scoped>\n",
       "    .dataframe tbody tr th:only-of-type {\n",
       "        vertical-align: middle;\n",
       "    }\n",
       "\n",
       "    .dataframe tbody tr th {\n",
       "        vertical-align: top;\n",
       "    }\n",
       "\n",
       "    .dataframe thead th {\n",
       "        text-align: right;\n",
       "    }\n",
       "</style>\n",
       "<table border=\"1\" class=\"dataframe\">\n",
       "  <thead>\n",
       "    <tr style=\"text-align: right;\">\n",
       "      <th></th>\n",
       "      <th>importance</th>\n",
       "    </tr>\n",
       "  </thead>\n",
       "  <tbody>\n",
       "    <tr>\n",
       "      <th>productprice</th>\n",
       "      <td>0.174268</td>\n",
       "    </tr>\n",
       "    <tr>\n",
       "      <th>feat_15</th>\n",
       "      <td>0.112947</td>\n",
       "    </tr>\n",
       "    <tr>\n",
       "      <th>vib</th>\n",
       "      <td>0.099538</td>\n",
       "    </tr>\n",
       "    <tr>\n",
       "      <th>n_reviews</th>\n",
       "      <td>0.080138</td>\n",
       "    </tr>\n",
       "    <tr>\n",
       "      <th>sent_neu</th>\n",
       "      <td>0.061203</td>\n",
       "    </tr>\n",
       "    <tr>\n",
       "      <th>sent_neg</th>\n",
       "      <td>0.056927</td>\n",
       "    </tr>\n",
       "    <tr>\n",
       "      <th>sent_pos</th>\n",
       "      <td>0.051962</td>\n",
       "    </tr>\n",
       "    <tr>\n",
       "      <th>helpfulness</th>\n",
       "      <td>0.045380</td>\n",
       "    </tr>\n",
       "    <tr>\n",
       "      <th>age_25to34</th>\n",
       "      <td>0.028208</td>\n",
       "    </tr>\n",
       "    <tr>\n",
       "      <th>feat_23</th>\n",
       "      <td>0.025066</td>\n",
       "    </tr>\n",
       "    <tr>\n",
       "      <th>feat_17</th>\n",
       "      <td>0.020452</td>\n",
       "    </tr>\n",
       "    <tr>\n",
       "      <th>feat_20</th>\n",
       "      <td>0.020393</td>\n",
       "    </tr>\n",
       "    <tr>\n",
       "      <th>feat_8</th>\n",
       "      <td>0.017627</td>\n",
       "    </tr>\n",
       "    <tr>\n",
       "      <th>feat_2</th>\n",
       "      <td>0.016540</td>\n",
       "    </tr>\n",
       "    <tr>\n",
       "      <th>feat_22</th>\n",
       "      <td>0.016346</td>\n",
       "    </tr>\n",
       "    <tr>\n",
       "      <th>feat_7</th>\n",
       "      <td>0.015513</td>\n",
       "    </tr>\n",
       "    <tr>\n",
       "      <th>age_18to24</th>\n",
       "      <td>0.014145</td>\n",
       "    </tr>\n",
       "    <tr>\n",
       "      <th>feat_24</th>\n",
       "      <td>0.013796</td>\n",
       "    </tr>\n",
       "    <tr>\n",
       "      <th>feat_16</th>\n",
       "      <td>0.012348</td>\n",
       "    </tr>\n",
       "    <tr>\n",
       "      <th>feat_14</th>\n",
       "      <td>0.011924</td>\n",
       "    </tr>\n",
       "    <tr>\n",
       "      <th>feat_3</th>\n",
       "      <td>0.011149</td>\n",
       "    </tr>\n",
       "    <tr>\n",
       "      <th>age_13to17</th>\n",
       "      <td>0.010093</td>\n",
       "    </tr>\n",
       "    <tr>\n",
       "      <th>feat_9</th>\n",
       "      <td>0.009968</td>\n",
       "    </tr>\n",
       "    <tr>\n",
       "      <th>feat_6</th>\n",
       "      <td>0.008667</td>\n",
       "    </tr>\n",
       "    <tr>\n",
       "      <th>feat_19</th>\n",
       "      <td>0.008228</td>\n",
       "    </tr>\n",
       "    <tr>\n",
       "      <th>feat_18</th>\n",
       "      <td>0.007479</td>\n",
       "    </tr>\n",
       "    <tr>\n",
       "      <th>age_45to54</th>\n",
       "      <td>0.006813</td>\n",
       "    </tr>\n",
       "    <tr>\n",
       "      <th>feat_10</th>\n",
       "      <td>0.005738</td>\n",
       "    </tr>\n",
       "    <tr>\n",
       "      <th>rating</th>\n",
       "      <td>0.005488</td>\n",
       "    </tr>\n",
       "    <tr>\n",
       "      <th>feat_12</th>\n",
       "      <td>0.005218</td>\n",
       "    </tr>\n",
       "    <tr>\n",
       "      <th>feat_1</th>\n",
       "      <td>0.005207</td>\n",
       "    </tr>\n",
       "    <tr>\n",
       "      <th>feat_13</th>\n",
       "      <td>0.005193</td>\n",
       "    </tr>\n",
       "    <tr>\n",
       "      <th>feat_4</th>\n",
       "      <td>0.004273</td>\n",
       "    </tr>\n",
       "    <tr>\n",
       "      <th>feat_5</th>\n",
       "      <td>0.003941</td>\n",
       "    </tr>\n",
       "    <tr>\n",
       "      <th>feat_11</th>\n",
       "      <td>0.002406</td>\n",
       "    </tr>\n",
       "    <tr>\n",
       "      <th>age_35to44</th>\n",
       "      <td>0.002041</td>\n",
       "    </tr>\n",
       "    <tr>\n",
       "      <th>feat_0</th>\n",
       "      <td>0.001904</td>\n",
       "    </tr>\n",
       "    <tr>\n",
       "      <th>age_over54</th>\n",
       "      <td>0.001472</td>\n",
       "    </tr>\n",
       "    <tr>\n",
       "      <th>feat_21</th>\n",
       "      <td>0.000000</td>\n",
       "    </tr>\n",
       "  </tbody>\n",
       "</table>\n",
       "</div>"
      ],
      "text/plain": [
       "              importance\n",
       "productprice    0.174268\n",
       "feat_15         0.112947\n",
       "vib             0.099538\n",
       "n_reviews       0.080138\n",
       "sent_neu        0.061203\n",
       "sent_neg        0.056927\n",
       "sent_pos        0.051962\n",
       "helpfulness     0.045380\n",
       "age_25to34      0.028208\n",
       "feat_23         0.025066\n",
       "feat_17         0.020452\n",
       "feat_20         0.020393\n",
       "feat_8          0.017627\n",
       "feat_2          0.016540\n",
       "feat_22         0.016346\n",
       "feat_7          0.015513\n",
       "age_18to24      0.014145\n",
       "feat_24         0.013796\n",
       "feat_16         0.012348\n",
       "feat_14         0.011924\n",
       "feat_3          0.011149\n",
       "age_13to17      0.010093\n",
       "feat_9          0.009968\n",
       "feat_6          0.008667\n",
       "feat_19         0.008228\n",
       "feat_18         0.007479\n",
       "age_45to54      0.006813\n",
       "feat_10         0.005738\n",
       "rating          0.005488\n",
       "feat_12         0.005218\n",
       "feat_1          0.005207\n",
       "feat_13         0.005193\n",
       "feat_4          0.004273\n",
       "feat_5          0.003941\n",
       "feat_11         0.002406\n",
       "age_35to44      0.002041\n",
       "feat_0          0.001904\n",
       "age_over54      0.001472\n",
       "feat_21         0.000000"
      ]
     },
     "execution_count": 264,
     "metadata": {},
     "output_type": "execute_result"
    }
   ],
   "source": [
    "fi"
   ]
  },
  {
   "cell_type": "code",
   "execution_count": 269,
   "metadata": {
    "collapsed": true
   },
   "outputs": [
    {
     "data": {
      "image/png": "[encoded data removed]",
      "text/plain": [
       "<matplotlib.figure.Figure at 0x1b6d477cc0>"
      ]
     },
     "metadata": {},
     "output_type": "display_data"
    }
   ],
   "source": [
    "fi = fi.sort_values(by='importance')"
   ]
  },
  {
   "cell_type": "code",
   "execution_count": 533,
   "metadata": {},
   "outputs": [],
   "source": [
    "from matplotlib import cm"
   ]
  },
  {
   "cell_type": "code",
   "execution_count": 551,
   "metadata": {},
   "outputs": [
    {
     "data": {
      "image/png": "[encoded data removed]",
      "text/plain": [
       "<matplotlib.figure.Figure at 0x1bf8cae390>"
      ]
     },
     "metadata": {},
     "output_type": "display_data"
    }
   ],
   "source": [
    "\n",
    "fi.plot(kind='barh',legend=False,figsize=(6,8),title='Feature Importance',fontsize='10',color='#941717',alpha=.7)\n",
    "plt.tight_layout()\n",
    "plt.savefig('features.png', dpi=500,pad_inches=None)"
   ]
  },
  {
   "cell_type": "code",
   "execution_count": null,
   "metadata": {},
   "outputs": [],
   "source": []
  },
  {
   "cell_type": "code",
   "execution_count": 349,
   "metadata": {},
   "outputs": [
    {
     "data": {
      "text/plain": [
       "Index(['review_id', 'AuthorId', 'IsFeatured', 'IsRatingsOnly', 'IsRecommended',\n",
       "       'Rating', 'Title', 'ReviewText', 'Helpfulness', 'product_id',\n",
       "       'productPrice', 'incentivized', 'age', 'vib', 'n_reviews',\n",
       "       'complimentary', 'sent_compound', 'sent_neg', 'sent_neu', 'sent_pos'],\n",
       "      dtype='object')"
      ]
     },
     "execution_count": 349,
     "metadata": {},
     "output_type": "execute_result"
    }
   ],
   "source": [
    "reviews_new.columns"
   ]
  },
  {
   "cell_type": "code",
   "execution_count": 696,
   "metadata": {},
   "outputs": [
    {
     "data": {
      "image/png": "[encoded data removed]",
      "text/plain": [
       "<matplotlib.figure.Figure at 0x1c4da79f98>"
      ]
     },
     "metadata": {},
     "output_type": "display_data"
    }
   ],
   "source": [
    "def bar_quartile(var, label, r, c):\n",
    "    df = reviews_new.loc[:,['incentivized',var]]\n",
    "    df['qt'] = pd.qcut(reviews_new[var],5,labels=[\"Q1\", \"Q2\", \"Q3\",\"Q4\",\"Q5\"])\n",
    "\n",
    "    return df.groupby('qt').incentivized.value_counts(normalize =True).unstack()[1].plot.bar(color='#941717',legend=False,title=label,ylim=(0,.15), rot=0, alpha=.7 );\n",
    "\n",
    "\n",
    "bar_quartile('productPrice','price',0,0);"
   ]
  },
  {
   "cell_type": "code",
   "execution_count": 697,
   "metadata": {},
   "outputs": [
    {
     "data": {
      "image/png": "[encoded data removed]",
      "text/plain": [
       "<matplotlib.figure.Figure at 0x1c3cc4def0>"
      ]
     },
     "metadata": {},
     "output_type": "display_data"
    }
   ],
   "source": [
    "text_feature_merged.groupby('feat_15').incentivized.value_counts(normalize =True).unstack()[1].plot.bar(color='#941717',\n",
    "                                                                                        legend=False,title='feature 15',ylim=(0,.55),alpha=.7);"
   ]
  },
  {
   "cell_type": "code",
   "execution_count": 698,
   "metadata": {},
   "outputs": [
    {
     "data": {
      "image/png": "[encoded data removed]",
      "text/plain": [
       "<matplotlib.figure.Figure at 0x1bfac92a58>"
      ]
     },
     "metadata": {},
     "output_type": "display_data"
    }
   ],
   "source": [
    "text_feature_merged.groupby('vib').incentivized.value_counts(normalize =True).unstack()[1].plot.bar(color='#941717',\n",
    "                                                                                        legend=False,title='vib',ylim=(0,.2),alpha=.7);"
   ]
  },
  {
   "cell_type": "code",
   "execution_count": 704,
   "metadata": {},
   "outputs": [
    {
     "data": {
      "image/png": "[encoded data removed]",
      "text/plain": [
       "<matplotlib.figure.Figure at 0x1c3d70dc18>"
      ]
     },
     "metadata": {},
     "output_type": "display_data"
    }
   ],
   "source": [
    "text_feature_merged.groupby('n_reviews').incentivized.value_counts(normalize =True).unstack()[1].plot.bar(color='#941717',\n",
    "                                                                                        legend=False,title='number of reviews',ylim=(0,1),alpha=.7);"
   ]
  },
  {
   "cell_type": "code",
   "execution_count": null,
   "metadata": {},
   "outputs": [],
   "source": [
    "# plt.figure(figsize=(6,6))\n",
    "# plt.plot([0, 1], [0, 1], 'k--')\n",
    "# plt.plot(fpr_grd, tpr_grd, label='GBT')\n",
    "# plt.plot(fpr_nb, tpr_nb, label='NB')\n",
    "# plt.xlabel('False positive rate',fontsize='12')\n",
    "# plt.ylabel('True positive rate',fontsize='12')\n",
    "# plt.title('ROC curve with features from text', fontsize='15')\n",
    "# plt.legend(loc='best');\n",
    "#plt.savefig('ROC.png', dpi=500);"
   ]
  },
  {
   "cell_type": "markdown",
   "metadata": {},
   "source": [
    "## LSA"
   ]
  },
  {
   "cell_type": "code",
   "execution_count": 144,
   "metadata": {},
   "outputs": [],
   "source": [
    "from sklearn.decomposition import TruncatedSVD\n",
    "from sklearn.feature_extraction.text import TfidfVectorizer \n",
    "from sklearn.feature_extraction.text import CountVectorizer \n",
    "from sklearn.preprocessing import Normalizer"
   ]
  },
  {
   "cell_type": "code",
   "execution_count": 150,
   "metadata": {},
   "outputs": [],
   "source": [
    "review_list=list(df['ReviewText'])"
   ]
  },
  {
   "cell_type": "code",
   "execution_count": 151,
   "metadata": {},
   "outputs": [
    {
     "data": {
      "text/html": [
       "<div>\n",
       "<style scoped>\n",
       "    .dataframe tbody tr th:only-of-type {\n",
       "        vertical-align: middle;\n",
       "    }\n",
       "\n",
       "    .dataframe tbody tr th {\n",
       "        vertical-align: top;\n",
       "    }\n",
       "\n",
       "    .dataframe thead th {\n",
       "        text-align: right;\n",
       "    }\n",
       "</style>\n",
       "<table border=\"1\" class=\"dataframe\">\n",
       "  <thead>\n",
       "    <tr style=\"text-align: right;\">\n",
       "      <th></th>\n",
       "      <th>00</th>\n",
       "      <th>000</th>\n",
       "      <th>00am</th>\n",
       "      <th>01</th>\n",
       "      <th>02</th>\n",
       "      <th>03</th>\n",
       "      <th>04</th>\n",
       "      <th>05</th>\n",
       "      <th>06</th>\n",
       "      <th>07</th>\n",
       "      <th>...</th>\n",
       "      <th>zip</th>\n",
       "      <th>ziploc</th>\n",
       "      <th>ziplock</th>\n",
       "      <th>zit</th>\n",
       "      <th>zits</th>\n",
       "      <th>zitty</th>\n",
       "      <th>zombie</th>\n",
       "      <th>zone</th>\n",
       "      <th>zones</th>\n",
       "      <th>zoo</th>\n",
       "    </tr>\n",
       "  </thead>\n",
       "  <tbody>\n",
       "    <tr>\n",
       "      <th>I tried ItCosmetics about a year ago and loved the foundation and concealer, and bye bye pore powder. Of course I had to try the cc cream and just as with all other ItCosmetics products I love it . During the summer I like having something light on my skin that won't melt away and look oily . This product has given me everything I asked for . I have also used it as a primer before applying a light foundation and it works beautifully. Truly recommend it</th>\n",
       "      <td>0</td>\n",
       "      <td>0</td>\n",
       "      <td>0</td>\n",
       "      <td>0</td>\n",
       "      <td>0</td>\n",
       "      <td>0</td>\n",
       "      <td>0</td>\n",
       "      <td>0</td>\n",
       "      <td>0</td>\n",
       "      <td>0</td>\n",
       "      <td>...</td>\n",
       "      <td>0</td>\n",
       "      <td>0</td>\n",
       "      <td>0</td>\n",
       "      <td>0</td>\n",
       "      <td>0</td>\n",
       "      <td>0</td>\n",
       "      <td>0</td>\n",
       "      <td>0</td>\n",
       "      <td>0</td>\n",
       "      <td>0</td>\n",
       "    </tr>\n",
       "    <tr>\n",
       "      <th>I've purchased hundreds of items from Sephora but have never gone out of my way to write a review. This is the BEST cc cream I've ever used. I've been a long time user of Laura Mercier tinted moisturizer but have been on the search for a cream with more coverage that I can wear on it's own. This is THE BEST. I have really red cheeks and this completely evens out my skin tone and has super smooth, beautiful coverage. I've been wearing tinted moisturizer   powder every day for years, and so happy to finally feel confident enough to wear just the cc cream and cut out a step in my beauty routine! So happy my hunt for the perfect cream is over!</th>\n",
       "      <td>0</td>\n",
       "      <td>0</td>\n",
       "      <td>0</td>\n",
       "      <td>0</td>\n",
       "      <td>0</td>\n",
       "      <td>0</td>\n",
       "      <td>0</td>\n",
       "      <td>0</td>\n",
       "      <td>0</td>\n",
       "      <td>0</td>\n",
       "      <td>...</td>\n",
       "      <td>0</td>\n",
       "      <td>0</td>\n",
       "      <td>0</td>\n",
       "      <td>0</td>\n",
       "      <td>0</td>\n",
       "      <td>0</td>\n",
       "      <td>0</td>\n",
       "      <td>0</td>\n",
       "      <td>0</td>\n",
       "      <td>0</td>\n",
       "    </tr>\n",
       "    <tr>\n",
       "      <th>I'm obsessed with taking care of my skin and I've been trying to use less foundation and makeup. \\nJust a tiny dot of this (because otherwise it's too thick and the color won't blend out into the skin well) and I mix it with my moisturizer. I've gotten so many compliments on my complexion since I've used this. This is definitely for when you want a very natural look / easy light makeup</th>\n",
       "      <td>0</td>\n",
       "      <td>0</td>\n",
       "      <td>0</td>\n",
       "      <td>0</td>\n",
       "      <td>0</td>\n",
       "      <td>0</td>\n",
       "      <td>0</td>\n",
       "      <td>0</td>\n",
       "      <td>0</td>\n",
       "      <td>0</td>\n",
       "      <td>...</td>\n",
       "      <td>0</td>\n",
       "      <td>0</td>\n",
       "      <td>0</td>\n",
       "      <td>0</td>\n",
       "      <td>0</td>\n",
       "      <td>0</td>\n",
       "      <td>0</td>\n",
       "      <td>0</td>\n",
       "      <td>0</td>\n",
       "      <td>0</td>\n",
       "    </tr>\n",
       "    <tr>\n",
       "      <th>This is the only \"foundation\" ive ever bought a second tube of!! I was always unsatisfied about the ones i used before, they were too dry, or made me break out, or just weren't all that suitable to my extremely sensitive skin. I live the dewy look that gives to my skin! I always get compliments when i use this.</th>\n",
       "      <td>0</td>\n",
       "      <td>0</td>\n",
       "      <td>0</td>\n",
       "      <td>0</td>\n",
       "      <td>0</td>\n",
       "      <td>0</td>\n",
       "      <td>0</td>\n",
       "      <td>0</td>\n",
       "      <td>0</td>\n",
       "      <td>0</td>\n",
       "      <td>...</td>\n",
       "      <td>0</td>\n",
       "      <td>0</td>\n",
       "      <td>0</td>\n",
       "      <td>0</td>\n",
       "      <td>0</td>\n",
       "      <td>0</td>\n",
       "      <td>0</td>\n",
       "      <td>0</td>\n",
       "      <td>0</td>\n",
       "      <td>0</td>\n",
       "    </tr>\n",
       "    <tr>\n",
       "      <th>I have to use 6 blottung sheets after using this</th>\n",
       "      <td>0</td>\n",
       "      <td>0</td>\n",
       "      <td>0</td>\n",
       "      <td>0</td>\n",
       "      <td>0</td>\n",
       "      <td>0</td>\n",
       "      <td>0</td>\n",
       "      <td>0</td>\n",
       "      <td>0</td>\n",
       "      <td>0</td>\n",
       "      <td>...</td>\n",
       "      <td>0</td>\n",
       "      <td>0</td>\n",
       "      <td>0</td>\n",
       "      <td>0</td>\n",
       "      <td>0</td>\n",
       "      <td>0</td>\n",
       "      <td>0</td>\n",
       "      <td>0</td>\n",
       "      <td>0</td>\n",
       "      <td>0</td>\n",
       "    </tr>\n",
       "    <tr>\n",
       "      <th>I absolutely love this cc cream! I have hyper pigmentation in my cheeks, and this baby cancels it out after only one layer! If you're looking for a great, natural looking foundation/cc cream, this is the one for you! You can either keep it looking like your skin but better with only one layer, or build it up to achieve that super full coverage look. It has a bit of a citrus scent, but isn't that noticeable once on your skin. The cc cream is so easy to blend and protects my skin since it has an SPF of 50! It does not break me out, unlike most foundations. This cc cream has exceeded my expectations and I will definitely repurchase it once I'm at out!</th>\n",
       "      <td>0</td>\n",
       "      <td>0</td>\n",
       "      <td>0</td>\n",
       "      <td>0</td>\n",
       "      <td>0</td>\n",
       "      <td>0</td>\n",
       "      <td>0</td>\n",
       "      <td>0</td>\n",
       "      <td>0</td>\n",
       "      <td>0</td>\n",
       "      <td>...</td>\n",
       "      <td>0</td>\n",
       "      <td>0</td>\n",
       "      <td>0</td>\n",
       "      <td>0</td>\n",
       "      <td>0</td>\n",
       "      <td>0</td>\n",
       "      <td>0</td>\n",
       "      <td>0</td>\n",
       "      <td>0</td>\n",
       "      <td>0</td>\n",
       "    </tr>\n",
       "    <tr>\n",
       "      <th>I love love love love love this foundation. It's so moisturizing and does wonders for my skin. However, I hate that it has very few shade options, and it doesn't last all day. However, I still use this as my everyday foundation, because I'm prone to breakouts on my sensitive skin if I use something too heavy. Would definitely recommend someone that is within the shade range.</th>\n",
       "      <td>0</td>\n",
       "      <td>0</td>\n",
       "      <td>0</td>\n",
       "      <td>0</td>\n",
       "      <td>0</td>\n",
       "      <td>0</td>\n",
       "      <td>0</td>\n",
       "      <td>0</td>\n",
       "      <td>0</td>\n",
       "      <td>0</td>\n",
       "      <td>...</td>\n",
       "      <td>0</td>\n",
       "      <td>0</td>\n",
       "      <td>0</td>\n",
       "      <td>0</td>\n",
       "      <td>0</td>\n",
       "      <td>0</td>\n",
       "      <td>0</td>\n",
       "      <td>0</td>\n",
       "      <td>0</td>\n",
       "      <td>0</td>\n",
       "    </tr>\n",
       "    <tr>\n",
       "      <th>I have dry skin that tends to have flaky patches during winter months, so naturally I figured this would be great to help keep my parched skin hydrated while looking great with SPF protection. I couldn't have been more wrong. This product is beyond disappointing, it's way too shimmery and shiny and makes my face look greasy. The color range is limited and the so called yellow undertones in this made my skin look gray. It did nothing to moisturize my skin and finally it made me break out. I will be returning this.</th>\n",
       "      <td>0</td>\n",
       "      <td>0</td>\n",
       "      <td>0</td>\n",
       "      <td>0</td>\n",
       "      <td>0</td>\n",
       "      <td>0</td>\n",
       "      <td>0</td>\n",
       "      <td>0</td>\n",
       "      <td>0</td>\n",
       "      <td>0</td>\n",
       "      <td>...</td>\n",
       "      <td>0</td>\n",
       "      <td>0</td>\n",
       "      <td>0</td>\n",
       "      <td>0</td>\n",
       "      <td>0</td>\n",
       "      <td>0</td>\n",
       "      <td>0</td>\n",
       "      <td>0</td>\n",
       "      <td>0</td>\n",
       "      <td>0</td>\n",
       "    </tr>\n",
       "    <tr>\n",
       "      <th>This product does what it says. It really brightens the under eye but it is so hard to work with. If it's not warm it doesn't blend well. I don't want to rub concealer between my fingers to warm it before putting it on. Would work well if you did full coverage makeup and had the time to mess with it to get it perfect.</th>\n",
       "      <td>0</td>\n",
       "      <td>0</td>\n",
       "      <td>0</td>\n",
       "      <td>0</td>\n",
       "      <td>0</td>\n",
       "      <td>0</td>\n",
       "      <td>0</td>\n",
       "      <td>0</td>\n",
       "      <td>0</td>\n",
       "      <td>0</td>\n",
       "      <td>...</td>\n",
       "      <td>0</td>\n",
       "      <td>0</td>\n",
       "      <td>0</td>\n",
       "      <td>0</td>\n",
       "      <td>0</td>\n",
       "      <td>0</td>\n",
       "      <td>0</td>\n",
       "      <td>0</td>\n",
       "      <td>0</td>\n",
       "      <td>0</td>\n",
       "    </tr>\n",
       "    <tr>\n",
       "      <th>I have normal to dry skin and this just looked awful on me. It clings on to everything. It does have good coverage but feels tacky the entire time and wears off very quickly. I could feel it moving. This goes on best with a really dense and stiff buffing brush, anything else just makes it looks horrible. I tried to love it and tried different techniques, even setting with powder but nothing made it work for me.</th>\n",
       "      <td>0</td>\n",
       "      <td>0</td>\n",
       "      <td>0</td>\n",
       "      <td>0</td>\n",
       "      <td>0</td>\n",
       "      <td>0</td>\n",
       "      <td>0</td>\n",
       "      <td>0</td>\n",
       "      <td>0</td>\n",
       "      <td>0</td>\n",
       "      <td>...</td>\n",
       "      <td>0</td>\n",
       "      <td>0</td>\n",
       "      <td>0</td>\n",
       "      <td>0</td>\n",
       "      <td>0</td>\n",
       "      <td>0</td>\n",
       "      <td>0</td>\n",
       "      <td>0</td>\n",
       "      <td>0</td>\n",
       "      <td>0</td>\n",
       "    </tr>\n",
       "  </tbody>\n",
       "</table>\n",
       "<p>10 rows × 11750 columns</p>\n",
       "</div>"
      ],
      "text/plain": [
       "                                                    00  000  00am  01  02  03  \\\n",
       "I tried ItCosmetics about a year ago and loved ...   0    0     0   0   0   0   \n",
       "I've purchased hundreds of items from Sephora b...   0    0     0   0   0   0   \n",
       "I'm obsessed with taking care of my skin and I'...   0    0     0   0   0   0   \n",
       "This is the only \"foundation\" ive ever bought a...   0    0     0   0   0   0   \n",
       "I have to use 6 blottung sheets after using this     0    0     0   0   0   0   \n",
       "I absolutely love this cc cream! I have hyper p...   0    0     0   0   0   0   \n",
       "I love love love love love this foundation. It'...   0    0     0   0   0   0   \n",
       "I have dry skin that tends to have flaky patche...   0    0     0   0   0   0   \n",
       "This product does what it says. It really brigh...   0    0     0   0   0   0   \n",
       "I have normal to dry skin and this just looked ...   0    0     0   0   0   0   \n",
       "\n",
       "                                                    04  05  06  07 ...   zip  \\\n",
       "I tried ItCosmetics about a year ago and loved ...   0   0   0   0 ...     0   \n",
       "I've purchased hundreds of items from Sephora b...   0   0   0   0 ...     0   \n",
       "I'm obsessed with taking care of my skin and I'...   0   0   0   0 ...     0   \n",
       "This is the only \"foundation\" ive ever bought a...   0   0   0   0 ...     0   \n",
       "I have to use 6 blottung sheets after using this     0   0   0   0 ...     0   \n",
       "I absolutely love this cc cream! I have hyper p...   0   0   0   0 ...     0   \n",
       "I love love love love love this foundation. It'...   0   0   0   0 ...     0   \n",
       "I have dry skin that tends to have flaky patche...   0   0   0   0 ...     0   \n",
       "This product does what it says. It really brigh...   0   0   0   0 ...     0   \n",
       "I have normal to dry skin and this just looked ...   0   0   0   0 ...     0   \n",
       "\n",
       "                                                    ziploc  ziplock  zit  \\\n",
       "I tried ItCosmetics about a year ago and loved ...       0        0    0   \n",
       "I've purchased hundreds of items from Sephora b...       0        0    0   \n",
       "I'm obsessed with taking care of my skin and I'...       0        0    0   \n",
       "This is the only \"foundation\" ive ever bought a...       0        0    0   \n",
       "I have to use 6 blottung sheets after using this         0        0    0   \n",
       "I absolutely love this cc cream! I have hyper p...       0        0    0   \n",
       "I love love love love love this foundation. It'...       0        0    0   \n",
       "I have dry skin that tends to have flaky patche...       0        0    0   \n",
       "This product does what it says. It really brigh...       0        0    0   \n",
       "I have normal to dry skin and this just looked ...       0        0    0   \n",
       "\n",
       "                                                    zits  zitty  zombie  zone  \\\n",
       "I tried ItCosmetics about a year ago and loved ...     0      0       0     0   \n",
       "I've purchased hundreds of items from Sephora b...     0      0       0     0   \n",
       "I'm obsessed with taking care of my skin and I'...     0      0       0     0   \n",
       "This is the only \"foundation\" ive ever bought a...     0      0       0     0   \n",
       "I have to use 6 blottung sheets after using this       0      0       0     0   \n",
       "I absolutely love this cc cream! I have hyper p...     0      0       0     0   \n",
       "I love love love love love this foundation. It'...     0      0       0     0   \n",
       "I have dry skin that tends to have flaky patche...     0      0       0     0   \n",
       "This product does what it says. It really brigh...     0      0       0     0   \n",
       "I have normal to dry skin and this just looked ...     0      0       0     0   \n",
       "\n",
       "                                                    zones  zoo  \n",
       "I tried ItCosmetics about a year ago and loved ...      0    0  \n",
       "I've purchased hundreds of items from Sephora b...      0    0  \n",
       "I'm obsessed with taking care of my skin and I'...      0    0  \n",
       "This is the only \"foundation\" ive ever bought a...      0    0  \n",
       "I have to use 6 blottung sheets after using this        0    0  \n",
       "I absolutely love this cc cream! I have hyper p...      0    0  \n",
       "I love love love love love this foundation. It'...      0    0  \n",
       "I have dry skin that tends to have flaky patche...      0    0  \n",
       "This product does what it says. It really brigh...      0    0  \n",
       "I have normal to dry skin and this just looked ...      0    0  \n",
       "\n",
       "[10 rows x 11750 columns]"
      ]
     },
     "execution_count": 151,
     "metadata": {},
     "output_type": "execute_result"
    }
   ],
   "source": [
    "vectorizer = CountVectorizer(min_df = 4, strip_accents='ascii',stop_words = 'english')\n",
    "dtm = vectorizer.fit_transform(review_list)  # dtm: Document-Term Matrix\n",
    "pd.DataFrame(dtm.toarray(), index=review_list, columns=vectorizer.get_feature_names()).head(10)"
   ]
  },
  {
   "cell_type": "code",
   "execution_count": 153,
   "metadata": {},
   "outputs": [],
   "source": [
    "lsa = TruncatedSVD(25, algorithm = 'randomized')\n",
    "dtm_lsa = lsa.fit_transform(dtm)"
   ]
  },
  {
   "cell_type": "code",
   "execution_count": 154,
   "metadata": {},
   "outputs": [
    {
     "data": {
      "text/plain": [
       "component_1     0.05019\n",
       "component_2     0.03444\n",
       "component_3    -0.02446\n",
       "component_4     0.01460\n",
       "component_5     0.01618\n",
       "component_6    -0.05335\n",
       "component_7    -0.04154\n",
       "component_8    -0.03133\n",
       "component_9    -0.04655\n",
       "component_10   -0.02693\n",
       "component_11   -0.02591\n",
       "component_12    0.06021\n",
       "component_13   -0.10085\n",
       "component_14    0.01942\n",
       "component_15    0.12611\n",
       "component_16   -0.06841\n",
       "component_17   -0.29253\n",
       "component_18   -0.01920\n",
       "component_19   -0.18481\n",
       "component_20   -0.08002\n",
       "component_21    0.14898\n",
       "component_22    0.18147\n",
       "component_23    0.35425\n",
       "component_24    0.20499\n",
       "component_25   -0.01498\n",
       "Name: sample, dtype: float64"
      ]
     },
     "execution_count": 154,
     "metadata": {},
     "output_type": "execute_result"
    }
   ],
   "source": [
    "pd.DataFrame(lsa.components_.round(5),index = [\"component_1\",\"component_2\",\"component_3\",\"component_4\",\n",
    "                                              \"component_5\",\"component_6\",\"component_7\",\"component_8\",\n",
    "                                              \"component_9\",\"component_10\",\n",
    "                                              \"component_11\",\"component_12\",\"component_13\",\"component_14\",\n",
    "                                              \"component_15\",\"component_16\",\"component_17\",\"component_18\",\n",
    "                                              \"component_19\",\"component_20\",\"component_21\",\"component_22\",\n",
    "                                               \"component_23\",\"component_24\",\"component_25\"],\n",
    "             columns = vectorizer.get_feature_names())['sample']"
   ]
  },
  {
   "cell_type": "code",
   "execution_count": 155,
   "metadata": {},
   "outputs": [],
   "source": [
    "LSA_matrix=pd.DataFrame(dtm_lsa.round(5), index = review_list, \n",
    "             columns = [\"component_1\",\"component_2\",\"component_3\",\"component_4\",\n",
    "                                              \"component_5\",\"component_6\",\"component_7\",\"component_8\",\n",
    "                                              \"component_9\",\"component_10\",\n",
    "                       \"component_11\",\"component_12\",\"component_13\",\"component_14\",\n",
    "                                              \"component_15\",\"component_16\",\"component_17\",\"component_18\",\n",
    "                                              \"component_19\",\"component_20\",\"component_21\",\"component_22\",\n",
    "                                               \"component_23\",\"component_24\",\"component_25\"])"
   ]
  },
  {
   "cell_type": "code",
   "execution_count": 156,
   "metadata": {},
   "outputs": [],
   "source": [
    "LSA_matrix['review_id']=list(df['review_id'])"
   ]
  },
  {
   "cell_type": "code",
   "execution_count": 157,
   "metadata": {},
   "outputs": [],
   "source": [
    "LSA_matrix['incentivized']=list(df['incentivized'])"
   ]
  },
  {
   "cell_type": "code",
   "execution_count": 158,
   "metadata": {},
   "outputs": [],
   "source": [
    "observations_lsa=reviews_new[['review_id','Rating','Helpfulness','n_reviews','productPrice',\n",
    "                           'age','vib','sent_compound','sent_neg','sent_neu','sent_pos']]"
   ]
  },
  {
   "cell_type": "code",
   "execution_count": 159,
   "metadata": {},
   "outputs": [],
   "source": [
    "observations_lsa=observations_lsa.merge(LSA_matrix,how='inner',on='review_id')"
   ]
  },
  {
   "cell_type": "code",
   "execution_count": 160,
   "metadata": {},
   "outputs": [
    {
     "data": {
      "text/plain": [
       "(110292, 37)"
      ]
     },
     "execution_count": 160,
     "metadata": {},
     "output_type": "execute_result"
    }
   ],
   "source": [
    "observations_lsa.shape"
   ]
  },
  {
   "cell_type": "code",
   "execution_count": 161,
   "metadata": {},
   "outputs": [],
   "source": [
    "observations_lsa = pd.get_dummies(observations_lsa, columns=['age'])"
   ]
  },
  {
   "cell_type": "code",
   "execution_count": 162,
   "metadata": {},
   "outputs": [],
   "source": [
    "mapper_lsa = DataFrameMapper([\n",
    "        (['Rating','Helpfulness','n_reviews','productPrice'], [Imputer(strategy='median'),StandardScaler()]),\n",
    "        (['vib','component_1', 'component_2', 'component_3', 'component_4',\n",
    "       'component_5', 'component_6', 'component_7', 'component_8',\n",
    "       'component_9', 'component_10'],None),\n",
    "         (['age_13to17','age_18to24',\n",
    "       'age_25to34', 'age_35to44', 'age_45to54', 'age_over54', 'age_unknow',\n",
    "           'sent_neg', 'sent_neu', 'sent_pos'], None)#[Imputer(),StandardScaler()])\n",
    "])\n"
   ]
  },
  {
   "cell_type": "code",
   "execution_count": 340,
   "metadata": {},
   "outputs": [],
   "source": [
    "g_lsa= observations_lsa.groupby('incentivized')\n",
    "subset_lsa=g_lsa.apply(lambda x: x.sample((g_lsa.size().min())))"
   ]
  },
  {
   "cell_type": "code",
   "execution_count": 341,
   "metadata": {},
   "outputs": [],
   "source": [
    "y_lsa =subset_lsa['incentivized']\n",
    "X_lsa=mapper_lsa.fit_transform(subset_lsa)"
   ]
  },
  {
   "cell_type": "code",
   "execution_count": 342,
   "metadata": {},
   "outputs": [],
   "source": [
    "X_train_lsa, X_test_lsa, y_train_lsa, y_test_lsa = train_test_split(X_lsa, y_lsa, test_size=0.5, random_state=3)"
   ]
  },
  {
   "cell_type": "code",
   "execution_count": 428,
   "metadata": {},
   "outputs": [
    {
     "name": "stdout",
     "output_type": "stream",
     "text": [
      "0.6926288742572668\n",
      "0.6877239275014813\n"
     ]
    }
   ],
   "source": [
    "nb_lsa = GaussianNB()\n",
    "nb_lsa.fit(X_train_lsa, y_train_lsa)\n",
    "print(roc_auc_score(y_train_lsa, nb_lsa.predict(X_train_lsa)))\n",
    "print(roc_auc_score(y_test_lsa, nb_lsa.predict(X_test_lsa)))\n",
    "y_pred_lsa = nb_lsa.predict_proba(X_test_lsa)[:, 1]\n",
    "fpr_nb_lsa, tpr_nb_lsa, _ = roc_curve(y_test_lsa, y_pred_lsa)"
   ]
  },
  {
   "cell_type": "markdown",
   "metadata": {},
   "source": [
    "# LDA"
   ]
  },
  {
   "cell_type": "code",
   "execution_count": null,
   "metadata": {},
   "outputs": [],
   "source": [
    "nltk.download('stopwords')"
   ]
  },
  {
   "cell_type": "code",
   "execution_count": null,
   "metadata": {},
   "outputs": [],
   "source": [
    "from pprint import pprint\n",
    "\n",
    "# Gensim\n",
    "import gensim\n",
    "import gensim.corpora as corpora\n",
    "from gensim.utils import simple_preprocess\n",
    "from gensim.models import CoherenceModel\n",
    "\n",
    "# spacy for lemmatization\n",
    "import spacy\n",
    "\n",
    "# Plotting tools\n",
    "import pyLDAvis\n",
    "import pyLDAvis.gensim  # don't skip this\n",
    "import matplotlib.pyplot as plt\n",
    "%matplotlib inline\n",
    "\n",
    "# Enable logging for gensim - optional\n",
    "import logging\n",
    "logging.basicConfig(format='%(asctime)s : %(levelname)s : %(message)s', level=logging.ERROR)\n",
    "\n",
    "import warnings\n",
    "warnings.filterwarnings(\"ignore\",category=DeprecationWarning)"
   ]
  },
  {
   "cell_type": "code",
   "execution_count": null,
   "metadata": {},
   "outputs": [],
   "source": [
    "# NLTK Stop words\n",
    "from nltk.corpus import stopwords\n",
    "stop_words = stopwords.words('english')\n",
    "stop_words.extend(['from', 'subject', 're', 'edu', 'use'])"
   ]
  },
  {
   "cell_type": "code",
   "execution_count": null,
   "metadata": {},
   "outputs": [],
   "source": [
    "with open('review_list.pickle', 'wb') as handle:\n",
    "    pickle.dump(review_list, handle, protocol=pickle.HIGHEST_PROTOCOL)"
   ]
  },
  {
   "cell_type": "code",
   "execution_count": null,
   "metadata": {},
   "outputs": [],
   "source": [
    "def sent_to_words(sentences):\n",
    "    for sentence in sentences:\n",
    "        yield(gensim.utils.simple_preprocess(str(sentence), deacc=True))  # deacc=True removes punctuations\n",
    "\n",
    "data_words = list(sent_to_words(review_list))\n",
    "\n",
    "print(data_words[:1])"
   ]
  },
  {
   "cell_type": "code",
   "execution_count": null,
   "metadata": {},
   "outputs": [],
   "source": [
    "bigram = gensim.models.Phrases(data_words, min_count=5, threshold=100)\n",
    "bigram_mod = gensim.models.phrases.Phraser(bigram)\n",
    "print(bigram_mod[data_words[0]])"
   ]
  },
  {
   "cell_type": "code",
   "execution_count": 168,
   "metadata": {},
   "outputs": [],
   "source": [
    "table=pd.read_pickle('lda_table.pickle')"
   ]
  },
  {
   "cell_type": "code",
   "execution_count": 169,
   "metadata": {},
   "outputs": [],
   "source": [
    "table.columns=[ 'topic 0','topic 1','topic 2','topic 3','topic 4','topic 5','topic 6','topic 7','topic 8',\n",
    "               'topic 9','topic 10','topic 11','topic 12','topic 13','topic 14',\n",
    "               'topic 15','topic 16','topic 17','topic 18','topic 19',\n",
    "                'review_id', 'incentivized']"
   ]
  },
  {
   "cell_type": "code",
   "execution_count": 170,
   "metadata": {},
   "outputs": [],
   "source": [
    "observations_lda=reviews_new[['review_id','Rating','Helpfulness','n_reviews','productPrice',\n",
    "                           'age','vib','sent_compound','sent_neg','sent_neu','sent_pos']]"
   ]
  },
  {
   "cell_type": "code",
   "execution_count": 171,
   "metadata": {},
   "outputs": [],
   "source": [
    "observations_lda=observations_lda.merge(table,how='inner',on='review_id')"
   ]
  },
  {
   "cell_type": "code",
   "execution_count": 172,
   "metadata": {},
   "outputs": [],
   "source": [
    "observations_lda = pd.get_dummies(observations_lda, columns=['age'])"
   ]
  },
  {
   "cell_type": "code",
   "execution_count": 173,
   "metadata": {},
   "outputs": [
    {
     "data": {
      "text/plain": [
       "Index(['review_id', 'Rating', 'Helpfulness', 'n_reviews', 'productPrice',\n",
       "       'vib', 'sent_compound', 'sent_neg', 'sent_neu', 'sent_pos', 'topic 0',\n",
       "       'topic 1', 'topic 2', 'topic 3', 'topic 4', 'topic 5', 'topic 6',\n",
       "       'topic 7', 'topic 8', 'topic 9', 'topic 10', 'topic 11', 'topic 12',\n",
       "       'topic 13', 'topic 14', 'topic 15', 'topic 16', 'topic 17', 'topic 18',\n",
       "       'topic 19', 'incentivized', 'age_18to24', 'age_25to34', 'age_35to44',\n",
       "       'age_unknow'],\n",
       "      dtype='object')"
      ]
     },
     "execution_count": 173,
     "metadata": {},
     "output_type": "execute_result"
    }
   ],
   "source": [
    "observations_lda.columns"
   ]
  },
  {
   "cell_type": "code",
   "execution_count": 174,
   "metadata": {},
   "outputs": [],
   "source": [
    "mapper_lda = DataFrameMapper([\n",
    "        (['Rating','Helpfulness','n_reviews','productPrice'], [Imputer(strategy='median'),StandardScaler()]),\n",
    "        (['vib','topic 0',\n",
    "       'topic 1', 'topic 2', 'topic 3', 'topic 4', 'topic 5', 'topic 6',\n",
    "       'topic 7', 'topic 8', 'topic 9', 'topic 10', 'topic 11', 'topic 12',\n",
    "       'topic 13', 'topic 14', 'topic 15', 'topic 16', 'topic 17', 'topic 18',\n",
    "       'topic 19'],None),\n",
    "         (['age_18to24',\n",
    "       'age_25to34', 'age_35to44', 'age_unknow',\n",
    "           'sent_neg', 'sent_neu', 'sent_pos'], None)#[Imputer(),StandardScaler()])\n",
    "])"
   ]
  },
  {
   "cell_type": "code",
   "execution_count": 175,
   "metadata": {},
   "outputs": [],
   "source": [
    "y_lda =observations_lda['incentivized']\n",
    "X_lda=mapper_lda.fit_transform(observations_lda)"
   ]
  },
  {
   "cell_type": "code",
   "execution_count": 176,
   "metadata": {},
   "outputs": [],
   "source": [
    "X_train_lda, X_test_lda, y_train_lda, y_test_lda = train_test_split(X_lda, y_lda, test_size=0.5,random_state=42)"
   ]
  },
  {
   "cell_type": "code",
   "execution_count": 177,
   "metadata": {},
   "outputs": [
    {
     "name": "stdout",
     "output_type": "stream",
     "text": [
      "0.7574679943100995\n",
      "0.4984681037312616\n"
     ]
    }
   ],
   "source": [
    "nb = GaussianNB()\n",
    "nb.fit(X_train_lda, y_train_lda)\n",
    "print(roc_auc_score(y_train_lda, nb.predict(X_train_lda)))\n",
    "print(roc_auc_score(y_test_lda, nb.predict(X_test_lda)))\n",
    "y_pred_lda = nb.predict_proba(X_test_lda)[:, 1]\n",
    "fpr_nb_lda, tpr_nb_lda, _ = roc_curve(y_test_lda, y_pred_lda)"
   ]
  },
  {
   "cell_type": "code",
   "execution_count": 178,
   "metadata": {},
   "outputs": [
    {
     "name": "stdout",
     "output_type": "stream",
     "text": [
      "1.0\n",
      "0.523197286355181\n"
     ]
    }
   ],
   "source": [
    "gradboost =GradientBoostingClassifier()\n",
    "gradboost.fit(X_train_lda, y_train_lda)\n",
    "print(roc_auc_score(y_train_lda, gradboost.predict(X_train_lda)))\n",
    "print(roc_auc_score(y_test_lda, gradboost.predict(X_test_lda)))\n",
    "y_pred_grd = gradboost.predict_proba(X_test_lda)[:, 1]\n",
    "fpr_grd, tpr_grd, _ = roc_curve(y_test_lda, y_pred_lda)"
   ]
  },
  {
   "cell_type": "markdown",
   "metadata": {},
   "source": [
    "## Regression model"
   ]
  },
  {
   "cell_type": "code",
   "execution_count": null,
   "metadata": {},
   "outputs": [],
   "source": [
    "y =all_feature_columns['incentivized']\n",
    "X=all_feature_columns.iloc[:,:25]"
   ]
  },
  {
   "cell_type": "code",
   "execution_count": null,
   "metadata": {},
   "outputs": [],
   "source": [
    "X_train, X_test, y_train, y_test = train_test_split(X, y, test_size=0.5, random_state=3)"
   ]
  },
  {
   "cell_type": "code",
   "execution_count": null,
   "metadata": {},
   "outputs": [],
   "source": [
    "nb = GaussianNB()\n",
    "nb.fit(X_train, y_train)\n",
    "print(roc_auc_score(y_train, nb.predict(X_train)))\n",
    "print(roc_auc_score(y_test, nb.predict(X_test)))\n"
   ]
  },
  {
   "cell_type": "code",
   "execution_count": null,
   "metadata": {},
   "outputs": [],
   "source": [
    "from sklearn.decomposition import PCA\n",
    "pca = PCA(n_components=10)\n",
    "pca_X_train=pca.fit_transform(X_train)\n",
    "pca_X_test=pca.transform(X_test)\n",
    "\n"
   ]
  },
  {
   "cell_type": "code",
   "execution_count": null,
   "metadata": {},
   "outputs": [],
   "source": [
    "nb.fit(pca_X_train, y_train)\n",
    "roc_auc_score(y_test, nb.predict(pca_X_test))"
   ]
  },
  {
   "cell_type": "code",
   "execution_count": null,
   "metadata": {},
   "outputs": [],
   "source": [
    "logreg = LogisticRegression()\n",
    "logreg.fit(pca_X_train, y_train)\n",
    "print(roc_auc_score(y_train, logreg.predict(pca_X_train)))\n",
    "print(roc_auc_score(y_test, logreg.predict(pca_X_test)))"
   ]
  },
  {
   "cell_type": "code",
   "execution_count": null,
   "metadata": {},
   "outputs": [],
   "source": [
    "randomforest = RandomForestClassifier(n_estimators=80,max_depth=10)\n",
    "randomforest.fit(pca_X_train, y_train)\n",
    "print(roc_auc_score(y_train, randomforest.predict(pca_X_train)))\n",
    "print(roc_auc_score(y_test, randomforest.predict(pca_X_test)))"
   ]
  },
  {
   "cell_type": "code",
   "execution_count": null,
   "metadata": {},
   "outputs": [],
   "source": [
    "gradboost =GradientBoostingClassifier()\n",
    "gradboost.fit(X_train, y_train)\n",
    "print(roc_auc_score(y_train, gradboost.predict(X_train)))\n",
    "print(roc_auc_score(y_test, gradboost.predict(X_test)))"
   ]
  },
  {
   "cell_type": "markdown",
   "metadata": {},
   "source": [
    "## Combine review table"
   ]
  },
  {
   "cell_type": "code",
   "execution_count": null,
   "metadata": {},
   "outputs": [],
   "source": [
    "reviews_new.columns"
   ]
  },
  {
   "cell_type": "code",
   "execution_count": null,
   "metadata": {},
   "outputs": [],
   "source": [
    "reviews_model=reviews_new[['AuthorId', 'IsFeatured', 'IsRatingsOnly', 'IsRecommended', 'Rating',\n",
    "                       'ReviewText','Helpfulness', 'product_id', 'productPrice', 'incentivized', 'age',\n",
    "       'vib', 'review_id']]"
   ]
  },
  {
   "cell_type": "code",
   "execution_count": null,
   "metadata": {},
   "outputs": [],
   "source": [
    "reviews_model['n_reviews']=reviews_model['review_id'].groupby(reviews_model['AuthorId']).transform('count')\n",
    "reviews_model['Helpfulness']=reviews_model['Helpfulness'].fillna(0)\n",
    "reviews_model['productPrice']=reviews_model['productPrice'].apply(lambda x: float(x))\n",
    "reviews_model['vib']=reviews_model['vib'].apply(lambda x: 0 if x=='no' or x=='unknow' else 1)"
   ]
  },
  {
   "cell_type": "code",
   "execution_count": null,
   "metadata": {},
   "outputs": [],
   "source": []
  },
  {
   "cell_type": "code",
   "execution_count": null,
   "metadata": {},
   "outputs": [],
   "source": []
  },
  {
   "cell_type": "code",
   "execution_count": null,
   "metadata": {},
   "outputs": [],
   "source": []
  },
  {
   "cell_type": "code",
   "execution_count": null,
   "metadata": {},
   "outputs": [],
   "source": []
  },
  {
   "cell_type": "code",
   "execution_count": null,
   "metadata": {},
   "outputs": [],
   "source": []
  },
  {
   "cell_type": "code",
   "execution_count": null,
   "metadata": {},
   "outputs": [],
   "source": []
  },
  {
   "cell_type": "code",
   "execution_count": null,
   "metadata": {},
   "outputs": [],
   "source": []
  },
  {
   "cell_type": "code",
   "execution_count": null,
   "metadata": {},
   "outputs": [],
   "source": []
  },
  {
   "cell_type": "code",
   "execution_count": null,
   "metadata": {},
   "outputs": [],
   "source": [
    "reviews_model.info()"
   ]
  },
  {
   "cell_type": "code",
   "execution_count": null,
   "metadata": {},
   "outputs": [],
   "source": [
    "observations=reviews_model[['review_id','Rating','Helpfulness','n_reviews','productPrice',\n",
    "                           'age','vib','sent_compound','sent_neg','sent_neu','sent_pos']]\n",
    "observations = pd.get_dummies(observations, columns=['age'])\n",
    "observations.columns = list(map(lambda x: x.lower().replace(' ', '_').replace('/', '_').replace('__','_'), observations.columns))"
   ]
  },
  {
   "cell_type": "code",
   "execution_count": null,
   "metadata": {},
   "outputs": [],
   "source": [
    "observations=observations.merge(all_feature_columns,how='inner',on='review_id')"
   ]
  },
  {
   "cell_type": "code",
   "execution_count": null,
   "metadata": {},
   "outputs": [],
   "source": [
    "observations.info()"
   ]
  },
  {
   "cell_type": "code",
   "execution_count": null,
   "metadata": {},
   "outputs": [],
   "source": []
  },
  {
   "cell_type": "code",
   "execution_count": null,
   "metadata": {},
   "outputs": [],
   "source": []
  },
  {
   "cell_type": "code",
   "execution_count": null,
   "metadata": {},
   "outputs": [],
   "source": [
    "observations.columns"
   ]
  },
  {
   "cell_type": "code",
   "execution_count": null,
   "metadata": {},
   "outputs": [],
   "source": [
    "from sklearn.preprocessing import Imputer, StandardScaler, LabelEncoder, OneHotEncoder\n",
    "from sklearn_pandas import DataFrameMapper, CategoricalImputer\n",
    "mapper = DataFrameMapper([\n",
    "        (['rating','helpfulness','n_reviews','productprice'], [Imputer(strategy='median'),StandardScaler()]),\n",
    "        (['vib','feat_0', 'feat_1',\n",
    "       'feat_2', 'feat_3', 'feat_4', 'feat_5', 'feat_6', 'feat_7', 'feat_8',\n",
    "       'feat_9', 'feat_10', 'feat_11', 'feat_12', 'feat_13', 'feat_14',\n",
    "       'feat_15', 'feat_16', 'feat_17', 'feat_18', 'feat_19', 'feat_20', 'feat_21', \n",
    "        'feat_22', 'feat_23', 'feat_24'],None),\n",
    "         (['age_13to17','age_18to24',\n",
    "       'age_25to34', 'age_35to44', 'age_45to54', 'age_over54', 'age_unknow',\n",
    "           'sent_neg', 'sent_neu', 'sent_pos'], None)#[Imputer(),StandardScaler()])\n",
    "])\n",
    "       "
   ]
  },
  {
   "cell_type": "code",
   "execution_count": null,
   "metadata": {},
   "outputs": [],
   "source": [
    "y =observations['incentivized']\n",
    "\n",
    "X=mapper.fit_transform(observations)\n",
    "X_train, X_test, y_train, y_test = train_test_split(X, y, test_size=0.4, random_state=42)\n",
    "nb = GaussianNB()\n",
    "nb.fit(X_train, y_train)\n",
    "print(roc_auc_score(y_train, nb.predict(X_train)))\n",
    "print(roc_auc_score(y_test, nb.predict(X_test)))"
   ]
  },
  {
   "cell_type": "code",
   "execution_count": null,
   "metadata": {},
   "outputs": [],
   "source": [
    "X.shape"
   ]
  },
  {
   "cell_type": "code",
   "execution_count": null,
   "metadata": {},
   "outputs": [],
   "source": []
  },
  {
   "cell_type": "code",
   "execution_count": null,
   "metadata": {},
   "outputs": [],
   "source": []
  },
  {
   "cell_type": "code",
   "execution_count": null,
   "metadata": {},
   "outputs": [],
   "source": [
    "logreg = LogisticRegression()\n",
    "logreg.fit(X_train, y_train)\n",
    "print(roc_auc_score(y_train, logreg.predict(X_train)))\n",
    "print(roc_auc_score(y_test, logreg.predict(X_test)))"
   ]
  },
  {
   "cell_type": "code",
   "execution_count": null,
   "metadata": {},
   "outputs": [],
   "source": [
    "gradboost =GradientBoostingClassifier()\n",
    "gradboost.fit(X_train, y_train)\n",
    "print(roc_auc_score(y_train, gradboost.predict(X_train)))\n",
    "print(roc_auc_score(y_test, gradboost.predict(X_test)))"
   ]
  },
  {
   "cell_type": "code",
   "execution_count": null,
   "metadata": {},
   "outputs": [],
   "source": [
    "## Balanced data"
   ]
  },
  {
   "cell_type": "code",
   "execution_count": null,
   "metadata": {},
   "outputs": [],
   "source": [
    "g = observations.groupby('incentivized')\n",
    "subset=g.apply(lambda x: x.sample((g.size().min())))"
   ]
  },
  {
   "cell_type": "code",
   "execution_count": null,
   "metadata": {},
   "outputs": [],
   "source": [
    "subset.shape"
   ]
  },
  {
   "cell_type": "code",
   "execution_count": null,
   "metadata": {},
   "outputs": [],
   "source": [
    "y_s = subset['incentivized']\n",
    "X_s = mapper.fit_transform(subset)\n",
    "X_strain, X_stest, y_strain, y_stest = train_test_split(X_s, y_s, test_size=0.5,random_state=42)\n",
    "nb = GaussianNB()\n",
    "nb.fit(X_strain, y_strain)\n",
    "print(roc_auc_score(y_strain, nb.predict(X_strain)))\n",
    "print(roc_auc_score(y_stest, nb.predict(X_stest)))\n",
    "gradboost =GradientBoostingClassifier()\n",
    "gradboost.fit(X_strain, y_strain)\n",
    "print(roc_auc_score(y_strain, gradboost.predict(X_strain)))\n",
    "print(roc_auc_score(y_stest, gradboost.predict(X_stest)))"
   ]
  },
  {
   "cell_type": "code",
   "execution_count": null,
   "metadata": {},
   "outputs": [],
   "source": []
  },
  {
   "cell_type": "code",
   "execution_count": null,
   "metadata": {},
   "outputs": [],
   "source": [
    "nb = GaussianNB()\n",
    "nb.fit(X_strain, y_strain)\n",
    "print(roc_auc_score(y_strain, nb.predict(X_strain)))\n",
    "print(roc_auc_score(y_stest, nb.predict(X_stest)))"
   ]
  },
  {
   "cell_type": "code",
   "execution_count": null,
   "metadata": {},
   "outputs": [],
   "source": [
    "gradboost =GradientBoostingClassifier()\n",
    "gradboost.fit(X_strain, y_strain)\n",
    "print(roc_auc_score(y_strain, gradboost.predict(X_strain)))\n",
    "print(roc_auc_score(y_stest, gradboost.predict(X_stest)))"
   ]
  },
  {
   "cell_type": "code",
   "execution_count": null,
   "metadata": {},
   "outputs": [],
   "source": [
    "vectors=pd.DataFrame(sentence_word_vectors_truncated)"
   ]
  },
  {
   "cell_type": "code",
   "execution_count": null,
   "metadata": {},
   "outputs": [],
   "source": [
    "vectors['incentivized']=list(df_sentence_product['incentivized'])"
   ]
  },
  {
   "cell_type": "code",
   "execution_count": null,
   "metadata": {},
   "outputs": [],
   "source": [
    "y =vectors['incentivized']\n",
    "X=vectors.iloc[:,:300]"
   ]
  },
  {
   "cell_type": "code",
   "execution_count": null,
   "metadata": {},
   "outputs": [],
   "source": [
    "X_train, X_test, y_train, y_test = train_test_split(X, y, test_size=0.4, random_state=3)"
   ]
  },
  {
   "cell_type": "code",
   "execution_count": null,
   "metadata": {},
   "outputs": [],
   "source": [
    "nb = GaussianNB()\n",
    "nb.fit(X_train, y_train)\n",
    "print(roc_auc_score(y_train, nb.predict(X_train)))\n",
    "print(roc_auc_score(y_test, nb.predict(X_test)))"
   ]
  },
  {
   "cell_type": "code",
   "execution_count": null,
   "metadata": {},
   "outputs": [],
   "source": [
    "g_v = vectors.groupby('incentivized')\n",
    "subset=g_v.apply(lambda x: x.sample((g_v.size().min())))"
   ]
  },
  {
   "cell_type": "code",
   "execution_count": null,
   "metadata": {},
   "outputs": [],
   "source": [
    "y_s =subset['incentivized']\n",
    "X_s=subset.iloc[:,:300]"
   ]
  },
  {
   "cell_type": "code",
   "execution_count": null,
   "metadata": {},
   "outputs": [],
   "source": [
    "X_strain, X_stest, y_strain, y_stest = train_test_split(X_s, y_s, test_size=0.5, random_state=3)"
   ]
  },
  {
   "cell_type": "code",
   "execution_count": null,
   "metadata": {},
   "outputs": [],
   "source": [
    "nb = GaussianNB()\n",
    "nb.fit(X_strain, y_strain)\n",
    "print(roc_auc_score(y_strain, nb.predict(X_strain)))\n",
    "print(roc_auc_score(y_stest, nb.predict(X_stest)))"
   ]
  },
  {
   "cell_type": "code",
   "execution_count": null,
   "metadata": {},
   "outputs": [],
   "source": []
  }
 ],
 "metadata": {
  "kernelspec": {
   "display_name": "Python 3",
   "language": "python",
   "name": "python3"
  },
  "language_info": {
   "codemirror_mode": {
    "name": "ipython",
    "version": 3
   },
   "file_extension": ".py",
   "mimetype": "text/x-python",
   "name": "python",
   "nbconvert_exporter": "python",
   "pygments_lexer": "ipython3",
   "version": "3.6.4"
  }
 },
 "nbformat": 4,
 "nbformat_minor": 2
}
